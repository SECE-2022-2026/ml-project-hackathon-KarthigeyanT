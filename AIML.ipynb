{
  "cells": [
    {
      "cell_type": "code",
      "execution_count": null,
      "id": "10cdbd40-ffd2-4949-9d3d-32e4b6344a4f",
      "metadata": {
        "id": "10cdbd40-ffd2-4949-9d3d-32e4b6344a4f"
      },
      "outputs": [],
      "source": [
        "AIML HACKATHON Time Series Forecasting\n"
      ]
    },
    {
      "cell_type": "code",
      "execution_count": 3,
      "id": "4644780d-624c-482e-af53-1b1c503b4654",
      "metadata": {
        "colab": {
          "base_uri": "https://localhost:8080/"
        },
        "id": "4644780d-624c-482e-af53-1b1c503b4654",
        "outputId": "392975dc-8188-4d3a-a207-fe0f2cfb6ae2"
      },
      "outputs": [
        {
          "output_type": "stream",
          "name": "stdout",
          "text": [
            "   index  Activity Period Operating Airline Operating Airline IATA Code  \\\n",
            "0      0           200507      ATA Airlines                          TZ   \n",
            "1      1           200507      ATA Airlines                          TZ   \n",
            "2      2           200507      ATA Airlines                          TZ   \n",
            "3      3           200507       Air Canada                           AC   \n",
            "4      4           200507       Air Canada                           AC   \n",
            "\n",
            "  Published Airline Published Airline IATA Code    GEO Summary GEO Region  \\\n",
            "0      ATA Airlines                          TZ       Domestic         US   \n",
            "1      ATA Airlines                          TZ       Domestic         US   \n",
            "2      ATA Airlines                          TZ       Domestic         US   \n",
            "3       Air Canada                           AC  International     Canada   \n",
            "4       Air Canada                           AC  International     Canada   \n",
            "\n",
            "  Activity Type Code Price Category Code    Terminal Boarding Area  \\\n",
            "0           Deplaned            Low Fare  Terminal 1             B   \n",
            "1           Enplaned            Low Fare  Terminal 1             B   \n",
            "2     Thru / Transit            Low Fare  Terminal 1             B   \n",
            "3           Deplaned               Other  Terminal 1             B   \n",
            "4           Enplaned               Other  Terminal 1             B   \n",
            "\n",
            "   Passenger Count Adjusted Activity Type Code  Adjusted Passenger Count  \\\n",
            "0            27271                    Deplaned                     27271   \n",
            "1            29131                    Enplaned                     29131   \n",
            "2             5415          Thru / Transit * 2                     10830   \n",
            "3            35156                    Deplaned                     35156   \n",
            "4            34090                    Enplaned                     34090   \n",
            "\n",
            "   Year Month  \n",
            "0  2005  July  \n",
            "1  2005  July  \n",
            "2  2005  July  \n",
            "3  2005  July  \n",
            "4  2005  July  \n"
          ]
        }
      ],
      "source": [
        "\n",
        "import pandas as pd\n",
        "import numpy as np\n",
        "import matplotlib.dates as mdates\n",
        "import matplotlib.pyplot as plt\n",
        "import seaborn as sns\n",
        "\n",
        "file_path = \"/content/Air_Traffic_Passenger_Statistics.csv\"\n",
        "\n",
        "data = pd.read_csv(file_path)\n",
        "\n",
        "print(data.head())\n"
      ]
    },
    {
      "cell_type": "markdown",
      "id": "5ee10dc7-1a76-489b-b836-5fa61a82ad54",
      "metadata": {
        "id": "5ee10dc7-1a76-489b-b836-5fa61a82ad54"
      },
      "source": [
        "we will be checking empty values in the data"
      ]
    },
    {
      "cell_type": "code",
      "execution_count": 4,
      "id": "48c45675-accb-4496-9250-1c393aee42bf",
      "metadata": {
        "colab": {
          "base_uri": "https://localhost:8080/"
        },
        "id": "48c45675-accb-4496-9250-1c393aee42bf",
        "outputId": "968cdde5-a05a-40f4-a912-d2cbfd187684"
      },
      "outputs": [
        {
          "output_type": "stream",
          "name": "stdout",
          "text": [
            "<class 'pandas.core.frame.DataFrame'>\n",
            "RangeIndex: 15007 entries, 0 to 15006\n",
            "Data columns (total 17 columns):\n",
            " #   Column                       Non-Null Count  Dtype \n",
            "---  ------                       --------------  ----- \n",
            " 0   index                        15007 non-null  int64 \n",
            " 1   Activity Period              15007 non-null  int64 \n",
            " 2   Operating Airline            15007 non-null  object\n",
            " 3   Operating Airline IATA Code  14953 non-null  object\n",
            " 4   Published Airline            15007 non-null  object\n",
            " 5   Published Airline IATA Code  14953 non-null  object\n",
            " 6   GEO Summary                  15007 non-null  object\n",
            " 7   GEO Region                   15007 non-null  object\n",
            " 8   Activity Type Code           15007 non-null  object\n",
            " 9   Price Category Code          15007 non-null  object\n",
            " 10  Terminal                     15007 non-null  object\n",
            " 11  Boarding Area                15007 non-null  object\n",
            " 12  Passenger Count              15007 non-null  int64 \n",
            " 13  Adjusted Activity Type Code  15007 non-null  object\n",
            " 14  Adjusted Passenger Count     15007 non-null  int64 \n",
            " 15  Year                         15007 non-null  int64 \n",
            " 16  Month                        15007 non-null  object\n",
            "dtypes: int64(5), object(12)\n",
            "memory usage: 1.9+ MB\n",
            "None\n",
            "index                           0\n",
            "Activity Period                 0\n",
            "Operating Airline               0\n",
            "Operating Airline IATA Code    54\n",
            "Published Airline               0\n",
            "Published Airline IATA Code    54\n",
            "GEO Summary                     0\n",
            "GEO Region                      0\n",
            "Activity Type Code              0\n",
            "Price Category Code             0\n",
            "Terminal                        0\n",
            "Boarding Area                   0\n",
            "Passenger Count                 0\n",
            "Adjusted Activity Type Code     0\n",
            "Adjusted Passenger Count        0\n",
            "Year                            0\n",
            "Month                           0\n",
            "dtype: int64\n",
            "             index  Activity Period  Passenger Count  \\\n",
            "count  15007.00000     15007.000000     15007.000000   \n",
            "mean    7503.00000    201045.073366     29240.521090   \n",
            "std     4332.29208       313.336196     58319.509284   \n",
            "min        0.00000    200507.000000         1.000000   \n",
            "25%     3751.50000    200803.000000      5373.500000   \n",
            "50%     7503.00000    201011.000000      9210.000000   \n",
            "75%    11254.50000    201308.000000     21158.500000   \n",
            "max    15006.00000    201603.000000    659837.000000   \n",
            "\n",
            "       Adjusted Passenger Count          Year  \n",
            "count              15007.000000  15007.000000  \n",
            "mean               29331.917105   2010.385220  \n",
            "std                58284.182219      3.137589  \n",
            "min                    1.000000   2005.000000  \n",
            "25%                 5495.500000   2008.000000  \n",
            "50%                 9354.000000   2010.000000  \n",
            "75%                21182.000000   2013.000000  \n",
            "max               659837.000000   2016.000000  \n"
          ]
        }
      ],
      "source": [
        "\n",
        "print(data.info())\n",
        "print(data.isnull().sum())\n",
        "print(data.describe())\n"
      ]
    },
    {
      "cell_type": "markdown",
      "id": "d4662af1-48e9-48e7-97d2-a7ed4cb4938a",
      "metadata": {
        "id": "d4662af1-48e9-48e7-97d2-a7ed4cb4938a"
      },
      "source": [
        "Data Cleaning"
      ]
    },
    {
      "cell_type": "markdown",
      "id": "3dd2e178-9a33-4bf0-8297-cef8fc2cd441",
      "metadata": {
        "id": "3dd2e178-9a33-4bf0-8297-cef8fc2cd441"
      },
      "source": [
        "Operating Airline IATA Code has 54 missing values and Published Airline IATA Code also have 54 missing values"
      ]
    },
    {
      "cell_type": "code",
      "execution_count": 5,
      "id": "78a6ec1e-d904-4285-847b-3fb5ba24a9a8",
      "metadata": {
        "colab": {
          "base_uri": "https://localhost:8080/"
        },
        "id": "78a6ec1e-d904-4285-847b-3fb5ba24a9a8",
        "outputId": "4b7aacfc-cb76-4517-8809-888fbf32a1ae"
      },
      "outputs": [
        {
          "output_type": "stream",
          "name": "stdout",
          "text": [
            "Rows with missing Operating Airline IATA Code:\n",
            "       index  Activity Period Operating Airline Operating Airline IATA Code  \\\n",
            "148      148           200508    Boeing Company                         NaN   \n",
            "6814    6814           201005         Servisair                         NaN   \n",
            "6815    6815           201005         Servisair                         NaN   \n",
            "6925    6925           201006  Pacific Aviation                         NaN   \n",
            "6926    6926           201006  Pacific Aviation                         NaN   \n",
            "7173    7173           201008         Servisair                         NaN   \n",
            "7174    7174           201008         Servisair                         NaN   \n",
            "7747    7747           201101         Servisair                         NaN   \n",
            "7748    7748           201101         Servisair                         NaN   \n",
            "7972    7972           201103         Servisair                         NaN   \n",
            "7973    7973           201103         Servisair                         NaN   \n",
            "8327    8327           201106         Servisair                         NaN   \n",
            "8328    8328           201106         Servisair                         NaN   \n",
            "8444    8444           201107         Servisair                         NaN   \n",
            "8445    8445           201107         Servisair                         NaN   \n",
            "8562    8562           201108         Servisair                         NaN   \n",
            "8563    8563           201108         Servisair                         NaN   \n",
            "8680    8680           201109         Servisair                         NaN   \n",
            "8793    8793           201110         Servisair                         NaN   \n",
            "8794    8794           201110         Servisair                         NaN   \n",
            "8795    8795           201110         Servisair                         NaN   \n",
            "8796    8796           201110         Servisair                         NaN   \n",
            "9131    9131           201201         Servisair                         NaN   \n",
            "9132    9132           201201         Servisair                         NaN   \n",
            "9357    9357           201203         Servisair                         NaN   \n",
            "9358    9358           201203         Servisair                         NaN   \n",
            "9468    9468           201204         Servisair                         NaN   \n",
            "9485    9485           201204     Swissport USA                         NaN   \n",
            "9486    9486           201204     Swissport USA                         NaN   \n",
            "9487    9487           201204     Swissport USA                         NaN   \n",
            "9698    9698           201206         Servisair                         NaN   \n",
            "9699    9699           201206         Servisair                         NaN   \n",
            "9936    9936           201208         Servisair                         NaN   \n",
            "9937    9937           201208         Servisair                         NaN   \n",
            "10172  10172           201210         Servisair                         NaN   \n",
            "10173  10173           201210         Servisair                         NaN   \n",
            "10402  10402           201212         Servisair                         NaN   \n",
            "10403  10403           201212         Servisair                         NaN   \n",
            "10841  10841           201304         Servisair                         NaN   \n",
            "10842  10842           201304         Servisair                         NaN   \n",
            "10863  10863           201304     Swissport USA                         NaN   \n",
            "10864  10864           201304     Swissport USA                         NaN   \n",
            "10979  10979           201305     Swissport USA                         NaN   \n",
            "10980  10980           201305     Swissport USA                         NaN   \n",
            "11210  11210           201307     Swissport USA                         NaN   \n",
            "11211  11211           201307     Swissport USA                         NaN   \n",
            "11538  11538           201310         Servisair                         NaN   \n",
            "11539  11539           201310         Servisair                         NaN   \n",
            "11783  11783           201312     Swissport USA                         NaN   \n",
            "11784  11784           201312     Swissport USA                         NaN   \n",
            "12011  12011           201402     Swissport USA                         NaN   \n",
            "12125  12125           201403     Swissport USA                         NaN   \n",
            "13025  13025           201411     Swissport USA                         NaN   \n",
            "13026  13026           201411     Swissport USA                         NaN   \n",
            "\n",
            "      Published Airline Published Airline IATA Code    GEO Summary  \\\n",
            "148      Boeing Company                         NaN       Domestic   \n",
            "6814          Servisair                         NaN       Domestic   \n",
            "6815          Servisair                         NaN       Domestic   \n",
            "6925   Pacific Aviation                         NaN  International   \n",
            "6926   Pacific Aviation                         NaN  International   \n",
            "7173          Servisair                         NaN       Domestic   \n",
            "7174          Servisair                         NaN       Domestic   \n",
            "7747          Servisair                         NaN       Domestic   \n",
            "7748          Servisair                         NaN       Domestic   \n",
            "7972          Servisair                         NaN       Domestic   \n",
            "7973          Servisair                         NaN       Domestic   \n",
            "8327          Servisair                         NaN       Domestic   \n",
            "8328          Servisair                         NaN       Domestic   \n",
            "8444          Servisair                         NaN       Domestic   \n",
            "8445          Servisair                         NaN       Domestic   \n",
            "8562          Servisair                         NaN       Domestic   \n",
            "8563          Servisair                         NaN       Domestic   \n",
            "8680          Servisair                         NaN       Domestic   \n",
            "8793          Servisair                         NaN       Domestic   \n",
            "8794          Servisair                         NaN       Domestic   \n",
            "8795          Servisair                         NaN  International   \n",
            "8796          Servisair                         NaN  International   \n",
            "9131          Servisair                         NaN       Domestic   \n",
            "9132          Servisair                         NaN       Domestic   \n",
            "9357          Servisair                         NaN       Domestic   \n",
            "9358          Servisair                         NaN       Domestic   \n",
            "9468          Servisair                         NaN       Domestic   \n",
            "9485      Swissport USA                         NaN  International   \n",
            "9486      Swissport USA                         NaN  International   \n",
            "9487      Swissport USA                         NaN  International   \n",
            "9698          Servisair                         NaN       Domestic   \n",
            "9699          Servisair                         NaN       Domestic   \n",
            "9936          Servisair                         NaN       Domestic   \n",
            "9937          Servisair                         NaN       Domestic   \n",
            "10172         Servisair                         NaN       Domestic   \n",
            "10173         Servisair                         NaN       Domestic   \n",
            "10402         Servisair                         NaN       Domestic   \n",
            "10403         Servisair                         NaN       Domestic   \n",
            "10841         Servisair                         NaN       Domestic   \n",
            "10842         Servisair                         NaN       Domestic   \n",
            "10863     Swissport USA                         NaN       Domestic   \n",
            "10864     Swissport USA                         NaN       Domestic   \n",
            "10979     Swissport USA                         NaN  International   \n",
            "10980     Swissport USA                         NaN  International   \n",
            "11210     Swissport USA                         NaN  International   \n",
            "11211     Swissport USA                         NaN  International   \n",
            "11538         Servisair                         NaN       Domestic   \n",
            "11539         Servisair                         NaN       Domestic   \n",
            "11783     Swissport USA                         NaN       Domestic   \n",
            "11784     Swissport USA                         NaN       Domestic   \n",
            "12011     Swissport USA                         NaN  International   \n",
            "12125     Swissport USA                         NaN       Domestic   \n",
            "13025     Swissport USA                         NaN  International   \n",
            "13026     Swissport USA                         NaN  International   \n",
            "\n",
            "            GEO Region Activity Type Code Price Category Code       Terminal  \\\n",
            "148                 US           Deplaned               Other          Other   \n",
            "6814                US           Deplaned            Low Fare  International   \n",
            "6815                US           Enplaned            Low Fare  International   \n",
            "6925            Europe           Deplaned               Other  International   \n",
            "6926            Europe           Enplaned               Other  International   \n",
            "7173                US           Deplaned            Low Fare  International   \n",
            "7174                US           Enplaned            Low Fare  International   \n",
            "7747                US           Deplaned            Low Fare  International   \n",
            "7748                US           Enplaned            Low Fare  International   \n",
            "7972                US           Deplaned            Low Fare  International   \n",
            "7973                US           Enplaned            Low Fare  International   \n",
            "8327                US           Deplaned            Low Fare  International   \n",
            "8328                US           Enplaned            Low Fare  International   \n",
            "8444                US           Deplaned            Low Fare  International   \n",
            "8445                US           Enplaned            Low Fare  International   \n",
            "8562                US           Deplaned            Low Fare  International   \n",
            "8563                US           Enplaned            Low Fare  International   \n",
            "8680                US           Deplaned            Low Fare  International   \n",
            "8793                US           Deplaned            Low Fare  International   \n",
            "8794                US           Enplaned            Low Fare  International   \n",
            "8795            Europe           Deplaned            Low Fare  International   \n",
            "8796            Europe           Enplaned            Low Fare  International   \n",
            "9131                US           Deplaned            Low Fare  International   \n",
            "9132                US           Enplaned            Low Fare  International   \n",
            "9357                US           Deplaned            Low Fare  International   \n",
            "9358                US           Enplaned            Low Fare  International   \n",
            "9468                US           Enplaned            Low Fare  International   \n",
            "9485            Europe           Deplaned               Other  International   \n",
            "9486            Europe           Enplaned               Other  International   \n",
            "9487            Europe     Thru / Transit               Other  International   \n",
            "9698                US           Deplaned            Low Fare  International   \n",
            "9699                US           Enplaned            Low Fare  International   \n",
            "9936                US           Deplaned            Low Fare  International   \n",
            "9937                US           Enplaned            Low Fare  International   \n",
            "10172               US           Deplaned            Low Fare  International   \n",
            "10173               US           Enplaned            Low Fare  International   \n",
            "10402               US           Deplaned            Low Fare  International   \n",
            "10403               US           Enplaned            Low Fare  International   \n",
            "10841               US           Deplaned            Low Fare  International   \n",
            "10842               US           Enplaned            Low Fare  International   \n",
            "10863               US           Deplaned               Other  International   \n",
            "10864               US           Enplaned               Other  International   \n",
            "10979           Europe           Deplaned               Other  International   \n",
            "10980           Europe           Enplaned               Other  International   \n",
            "11210           Europe           Deplaned               Other  International   \n",
            "11211           Europe           Enplaned               Other  International   \n",
            "11538               US           Deplaned            Low Fare  International   \n",
            "11539               US           Enplaned            Low Fare  International   \n",
            "11783               US           Deplaned               Other  International   \n",
            "11784               US           Enplaned               Other  International   \n",
            "12011             Asia           Deplaned               Other  International   \n",
            "12125               US           Deplaned               Other  International   \n",
            "13025  Central America           Deplaned               Other  International   \n",
            "13026  Central America           Enplaned               Other  International   \n",
            "\n",
            "      Boarding Area  Passenger Count Adjusted Activity Type Code  \\\n",
            "148           Other               18                    Deplaned   \n",
            "6814              G               73                    Deplaned   \n",
            "6815              G               73                    Enplaned   \n",
            "6925              A              160                    Deplaned   \n",
            "6926              A              160                    Enplaned   \n",
            "7173              G              118                    Deplaned   \n",
            "7174              G              118                    Enplaned   \n",
            "7747              A               40                    Deplaned   \n",
            "7748              A               40                    Enplaned   \n",
            "7972              A               64                    Deplaned   \n",
            "7973              A               64                    Enplaned   \n",
            "8327              A              237                    Deplaned   \n",
            "8328              A              262                    Enplaned   \n",
            "8444              A               72                    Deplaned   \n",
            "8445              A              193                    Enplaned   \n",
            "8562              A              114                    Deplaned   \n",
            "8563              A               98                    Enplaned   \n",
            "8680              A               98                    Deplaned   \n",
            "8793              A               48                    Deplaned   \n",
            "8794              A               48                    Enplaned   \n",
            "8795              A               16                    Deplaned   \n",
            "8796              A               16                    Enplaned   \n",
            "9131              A               77                    Deplaned   \n",
            "9132              A               77                    Enplaned   \n",
            "9357              A               51                    Deplaned   \n",
            "9358              A               51                    Enplaned   \n",
            "9468              G              171                    Enplaned   \n",
            "9485              A              167                    Deplaned   \n",
            "9486              A              183                    Enplaned   \n",
            "9487              A               93          Thru / Transit * 2   \n",
            "9698              A               62                    Deplaned   \n",
            "9699              A               62                    Enplaned   \n",
            "9936              A              115                    Deplaned   \n",
            "9937              A               71                    Enplaned   \n",
            "10172             A               57                    Deplaned   \n",
            "10173             A               57                    Enplaned   \n",
            "10402             A               57                    Deplaned   \n",
            "10403             A               57                    Enplaned   \n",
            "10841             A              120                    Deplaned   \n",
            "10842             A              215                    Enplaned   \n",
            "10863             A              399                    Deplaned   \n",
            "10864             A              560                    Enplaned   \n",
            "10979             A              300                    Deplaned   \n",
            "10980             A              300                    Enplaned   \n",
            "11210             A              276                    Deplaned   \n",
            "11211             A              276                    Enplaned   \n",
            "11538             A               75                    Deplaned   \n",
            "11539             A               75                    Enplaned   \n",
            "11783             A              214                    Deplaned   \n",
            "11784             A              216                    Enplaned   \n",
            "12011             A              216                    Deplaned   \n",
            "12125             A              211                    Deplaned   \n",
            "13025             A              234                    Deplaned   \n",
            "13026             A              234                    Enplaned   \n",
            "\n",
            "       Adjusted Passenger Count  Year      Month  \n",
            "148                          18  2005     August  \n",
            "6814                         73  2010        May  \n",
            "6815                         73  2010        May  \n",
            "6925                        160  2010       June  \n",
            "6926                        160  2010       June  \n",
            "7173                        118  2010     August  \n",
            "7174                        118  2010     August  \n",
            "7747                         40  2011    January  \n",
            "7748                         40  2011    January  \n",
            "7972                         64  2011      March  \n",
            "7973                         64  2011      March  \n",
            "8327                        237  2011       June  \n",
            "8328                        262  2011       June  \n",
            "8444                         72  2011       July  \n",
            "8445                        193  2011       July  \n",
            "8562                        114  2011     August  \n",
            "8563                         98  2011     August  \n",
            "8680                         98  2011  September  \n",
            "8793                         48  2011    October  \n",
            "8794                         48  2011    October  \n",
            "8795                         16  2011    October  \n",
            "8796                         16  2011    October  \n",
            "9131                         77  2012    January  \n",
            "9132                         77  2012    January  \n",
            "9357                         51  2012      March  \n",
            "9358                         51  2012      March  \n",
            "9468                        171  2012      April  \n",
            "9485                        167  2012      April  \n",
            "9486                        183  2012      April  \n",
            "9487                        186  2012      April  \n",
            "9698                         62  2012       June  \n",
            "9699                         62  2012       June  \n",
            "9936                        115  2012     August  \n",
            "9937                         71  2012     August  \n",
            "10172                        57  2012    October  \n",
            "10173                        57  2012    October  \n",
            "10402                        57  2012   December  \n",
            "10403                        57  2012   December  \n",
            "10841                       120  2013      April  \n",
            "10842                       215  2013      April  \n",
            "10863                       399  2013      April  \n",
            "10864                       560  2013      April  \n",
            "10979                       300  2013        May  \n",
            "10980                       300  2013        May  \n",
            "11210                       276  2013       July  \n",
            "11211                       276  2013       July  \n",
            "11538                        75  2013    October  \n",
            "11539                        75  2013    October  \n",
            "11783                       214  2013   December  \n",
            "11784                       216  2013   December  \n",
            "12011                       216  2014   February  \n",
            "12125                       211  2014      March  \n",
            "13025                       234  2014   November  \n",
            "13026                       234  2014   November  \n",
            "\n",
            "Rows with missing Published Airline IATA Code:\n",
            "       index  Activity Period Operating Airline Operating Airline IATA Code  \\\n",
            "148      148           200508    Boeing Company                         NaN   \n",
            "6814    6814           201005         Servisair                         NaN   \n",
            "6815    6815           201005         Servisair                         NaN   \n",
            "6925    6925           201006  Pacific Aviation                         NaN   \n",
            "6926    6926           201006  Pacific Aviation                         NaN   \n",
            "7173    7173           201008         Servisair                         NaN   \n",
            "7174    7174           201008         Servisair                         NaN   \n",
            "7747    7747           201101         Servisair                         NaN   \n",
            "7748    7748           201101         Servisair                         NaN   \n",
            "7972    7972           201103         Servisair                         NaN   \n",
            "7973    7973           201103         Servisair                         NaN   \n",
            "8327    8327           201106         Servisair                         NaN   \n",
            "8328    8328           201106         Servisair                         NaN   \n",
            "8444    8444           201107         Servisair                         NaN   \n",
            "8445    8445           201107         Servisair                         NaN   \n",
            "8562    8562           201108         Servisair                         NaN   \n",
            "8563    8563           201108         Servisair                         NaN   \n",
            "8680    8680           201109         Servisair                         NaN   \n",
            "8793    8793           201110         Servisair                         NaN   \n",
            "8794    8794           201110         Servisair                         NaN   \n",
            "8795    8795           201110         Servisair                         NaN   \n",
            "8796    8796           201110         Servisair                         NaN   \n",
            "9131    9131           201201         Servisair                         NaN   \n",
            "9132    9132           201201         Servisair                         NaN   \n",
            "9357    9357           201203         Servisair                         NaN   \n",
            "9358    9358           201203         Servisair                         NaN   \n",
            "9468    9468           201204         Servisair                         NaN   \n",
            "9485    9485           201204     Swissport USA                         NaN   \n",
            "9486    9486           201204     Swissport USA                         NaN   \n",
            "9487    9487           201204     Swissport USA                         NaN   \n",
            "9698    9698           201206         Servisair                         NaN   \n",
            "9699    9699           201206         Servisair                         NaN   \n",
            "9936    9936           201208         Servisair                         NaN   \n",
            "9937    9937           201208         Servisair                         NaN   \n",
            "10172  10172           201210         Servisair                         NaN   \n",
            "10173  10173           201210         Servisair                         NaN   \n",
            "10402  10402           201212         Servisair                         NaN   \n",
            "10403  10403           201212         Servisair                         NaN   \n",
            "10841  10841           201304         Servisair                         NaN   \n",
            "10842  10842           201304         Servisair                         NaN   \n",
            "10863  10863           201304     Swissport USA                         NaN   \n",
            "10864  10864           201304     Swissport USA                         NaN   \n",
            "10979  10979           201305     Swissport USA                         NaN   \n",
            "10980  10980           201305     Swissport USA                         NaN   \n",
            "11210  11210           201307     Swissport USA                         NaN   \n",
            "11211  11211           201307     Swissport USA                         NaN   \n",
            "11538  11538           201310         Servisair                         NaN   \n",
            "11539  11539           201310         Servisair                         NaN   \n",
            "11783  11783           201312     Swissport USA                         NaN   \n",
            "11784  11784           201312     Swissport USA                         NaN   \n",
            "12011  12011           201402     Swissport USA                         NaN   \n",
            "12125  12125           201403     Swissport USA                         NaN   \n",
            "13025  13025           201411     Swissport USA                         NaN   \n",
            "13026  13026           201411     Swissport USA                         NaN   \n",
            "\n",
            "      Published Airline Published Airline IATA Code    GEO Summary  \\\n",
            "148      Boeing Company                         NaN       Domestic   \n",
            "6814          Servisair                         NaN       Domestic   \n",
            "6815          Servisair                         NaN       Domestic   \n",
            "6925   Pacific Aviation                         NaN  International   \n",
            "6926   Pacific Aviation                         NaN  International   \n",
            "7173          Servisair                         NaN       Domestic   \n",
            "7174          Servisair                         NaN       Domestic   \n",
            "7747          Servisair                         NaN       Domestic   \n",
            "7748          Servisair                         NaN       Domestic   \n",
            "7972          Servisair                         NaN       Domestic   \n",
            "7973          Servisair                         NaN       Domestic   \n",
            "8327          Servisair                         NaN       Domestic   \n",
            "8328          Servisair                         NaN       Domestic   \n",
            "8444          Servisair                         NaN       Domestic   \n",
            "8445          Servisair                         NaN       Domestic   \n",
            "8562          Servisair                         NaN       Domestic   \n",
            "8563          Servisair                         NaN       Domestic   \n",
            "8680          Servisair                         NaN       Domestic   \n",
            "8793          Servisair                         NaN       Domestic   \n",
            "8794          Servisair                         NaN       Domestic   \n",
            "8795          Servisair                         NaN  International   \n",
            "8796          Servisair                         NaN  International   \n",
            "9131          Servisair                         NaN       Domestic   \n",
            "9132          Servisair                         NaN       Domestic   \n",
            "9357          Servisair                         NaN       Domestic   \n",
            "9358          Servisair                         NaN       Domestic   \n",
            "9468          Servisair                         NaN       Domestic   \n",
            "9485      Swissport USA                         NaN  International   \n",
            "9486      Swissport USA                         NaN  International   \n",
            "9487      Swissport USA                         NaN  International   \n",
            "9698          Servisair                         NaN       Domestic   \n",
            "9699          Servisair                         NaN       Domestic   \n",
            "9936          Servisair                         NaN       Domestic   \n",
            "9937          Servisair                         NaN       Domestic   \n",
            "10172         Servisair                         NaN       Domestic   \n",
            "10173         Servisair                         NaN       Domestic   \n",
            "10402         Servisair                         NaN       Domestic   \n",
            "10403         Servisair                         NaN       Domestic   \n",
            "10841         Servisair                         NaN       Domestic   \n",
            "10842         Servisair                         NaN       Domestic   \n",
            "10863     Swissport USA                         NaN       Domestic   \n",
            "10864     Swissport USA                         NaN       Domestic   \n",
            "10979     Swissport USA                         NaN  International   \n",
            "10980     Swissport USA                         NaN  International   \n",
            "11210     Swissport USA                         NaN  International   \n",
            "11211     Swissport USA                         NaN  International   \n",
            "11538         Servisair                         NaN       Domestic   \n",
            "11539         Servisair                         NaN       Domestic   \n",
            "11783     Swissport USA                         NaN       Domestic   \n",
            "11784     Swissport USA                         NaN       Domestic   \n",
            "12011     Swissport USA                         NaN  International   \n",
            "12125     Swissport USA                         NaN       Domestic   \n",
            "13025     Swissport USA                         NaN  International   \n",
            "13026     Swissport USA                         NaN  International   \n",
            "\n",
            "            GEO Region Activity Type Code Price Category Code       Terminal  \\\n",
            "148                 US           Deplaned               Other          Other   \n",
            "6814                US           Deplaned            Low Fare  International   \n",
            "6815                US           Enplaned            Low Fare  International   \n",
            "6925            Europe           Deplaned               Other  International   \n",
            "6926            Europe           Enplaned               Other  International   \n",
            "7173                US           Deplaned            Low Fare  International   \n",
            "7174                US           Enplaned            Low Fare  International   \n",
            "7747                US           Deplaned            Low Fare  International   \n",
            "7748                US           Enplaned            Low Fare  International   \n",
            "7972                US           Deplaned            Low Fare  International   \n",
            "7973                US           Enplaned            Low Fare  International   \n",
            "8327                US           Deplaned            Low Fare  International   \n",
            "8328                US           Enplaned            Low Fare  International   \n",
            "8444                US           Deplaned            Low Fare  International   \n",
            "8445                US           Enplaned            Low Fare  International   \n",
            "8562                US           Deplaned            Low Fare  International   \n",
            "8563                US           Enplaned            Low Fare  International   \n",
            "8680                US           Deplaned            Low Fare  International   \n",
            "8793                US           Deplaned            Low Fare  International   \n",
            "8794                US           Enplaned            Low Fare  International   \n",
            "8795            Europe           Deplaned            Low Fare  International   \n",
            "8796            Europe           Enplaned            Low Fare  International   \n",
            "9131                US           Deplaned            Low Fare  International   \n",
            "9132                US           Enplaned            Low Fare  International   \n",
            "9357                US           Deplaned            Low Fare  International   \n",
            "9358                US           Enplaned            Low Fare  International   \n",
            "9468                US           Enplaned            Low Fare  International   \n",
            "9485            Europe           Deplaned               Other  International   \n",
            "9486            Europe           Enplaned               Other  International   \n",
            "9487            Europe     Thru / Transit               Other  International   \n",
            "9698                US           Deplaned            Low Fare  International   \n",
            "9699                US           Enplaned            Low Fare  International   \n",
            "9936                US           Deplaned            Low Fare  International   \n",
            "9937                US           Enplaned            Low Fare  International   \n",
            "10172               US           Deplaned            Low Fare  International   \n",
            "10173               US           Enplaned            Low Fare  International   \n",
            "10402               US           Deplaned            Low Fare  International   \n",
            "10403               US           Enplaned            Low Fare  International   \n",
            "10841               US           Deplaned            Low Fare  International   \n",
            "10842               US           Enplaned            Low Fare  International   \n",
            "10863               US           Deplaned               Other  International   \n",
            "10864               US           Enplaned               Other  International   \n",
            "10979           Europe           Deplaned               Other  International   \n",
            "10980           Europe           Enplaned               Other  International   \n",
            "11210           Europe           Deplaned               Other  International   \n",
            "11211           Europe           Enplaned               Other  International   \n",
            "11538               US           Deplaned            Low Fare  International   \n",
            "11539               US           Enplaned            Low Fare  International   \n",
            "11783               US           Deplaned               Other  International   \n",
            "11784               US           Enplaned               Other  International   \n",
            "12011             Asia           Deplaned               Other  International   \n",
            "12125               US           Deplaned               Other  International   \n",
            "13025  Central America           Deplaned               Other  International   \n",
            "13026  Central America           Enplaned               Other  International   \n",
            "\n",
            "      Boarding Area  Passenger Count Adjusted Activity Type Code  \\\n",
            "148           Other               18                    Deplaned   \n",
            "6814              G               73                    Deplaned   \n",
            "6815              G               73                    Enplaned   \n",
            "6925              A              160                    Deplaned   \n",
            "6926              A              160                    Enplaned   \n",
            "7173              G              118                    Deplaned   \n",
            "7174              G              118                    Enplaned   \n",
            "7747              A               40                    Deplaned   \n",
            "7748              A               40                    Enplaned   \n",
            "7972              A               64                    Deplaned   \n",
            "7973              A               64                    Enplaned   \n",
            "8327              A              237                    Deplaned   \n",
            "8328              A              262                    Enplaned   \n",
            "8444              A               72                    Deplaned   \n",
            "8445              A              193                    Enplaned   \n",
            "8562              A              114                    Deplaned   \n",
            "8563              A               98                    Enplaned   \n",
            "8680              A               98                    Deplaned   \n",
            "8793              A               48                    Deplaned   \n",
            "8794              A               48                    Enplaned   \n",
            "8795              A               16                    Deplaned   \n",
            "8796              A               16                    Enplaned   \n",
            "9131              A               77                    Deplaned   \n",
            "9132              A               77                    Enplaned   \n",
            "9357              A               51                    Deplaned   \n",
            "9358              A               51                    Enplaned   \n",
            "9468              G              171                    Enplaned   \n",
            "9485              A              167                    Deplaned   \n",
            "9486              A              183                    Enplaned   \n",
            "9487              A               93          Thru / Transit * 2   \n",
            "9698              A               62                    Deplaned   \n",
            "9699              A               62                    Enplaned   \n",
            "9936              A              115                    Deplaned   \n",
            "9937              A               71                    Enplaned   \n",
            "10172             A               57                    Deplaned   \n",
            "10173             A               57                    Enplaned   \n",
            "10402             A               57                    Deplaned   \n",
            "10403             A               57                    Enplaned   \n",
            "10841             A              120                    Deplaned   \n",
            "10842             A              215                    Enplaned   \n",
            "10863             A              399                    Deplaned   \n",
            "10864             A              560                    Enplaned   \n",
            "10979             A              300                    Deplaned   \n",
            "10980             A              300                    Enplaned   \n",
            "11210             A              276                    Deplaned   \n",
            "11211             A              276                    Enplaned   \n",
            "11538             A               75                    Deplaned   \n",
            "11539             A               75                    Enplaned   \n",
            "11783             A              214                    Deplaned   \n",
            "11784             A              216                    Enplaned   \n",
            "12011             A              216                    Deplaned   \n",
            "12125             A              211                    Deplaned   \n",
            "13025             A              234                    Deplaned   \n",
            "13026             A              234                    Enplaned   \n",
            "\n",
            "       Adjusted Passenger Count  Year      Month  \n",
            "148                          18  2005     August  \n",
            "6814                         73  2010        May  \n",
            "6815                         73  2010        May  \n",
            "6925                        160  2010       June  \n",
            "6926                        160  2010       June  \n",
            "7173                        118  2010     August  \n",
            "7174                        118  2010     August  \n",
            "7747                         40  2011    January  \n",
            "7748                         40  2011    January  \n",
            "7972                         64  2011      March  \n",
            "7973                         64  2011      March  \n",
            "8327                        237  2011       June  \n",
            "8328                        262  2011       June  \n",
            "8444                         72  2011       July  \n",
            "8445                        193  2011       July  \n",
            "8562                        114  2011     August  \n",
            "8563                         98  2011     August  \n",
            "8680                         98  2011  September  \n",
            "8793                         48  2011    October  \n",
            "8794                         48  2011    October  \n",
            "8795                         16  2011    October  \n",
            "8796                         16  2011    October  \n",
            "9131                         77  2012    January  \n",
            "9132                         77  2012    January  \n",
            "9357                         51  2012      March  \n",
            "9358                         51  2012      March  \n",
            "9468                        171  2012      April  \n",
            "9485                        167  2012      April  \n",
            "9486                        183  2012      April  \n",
            "9487                        186  2012      April  \n",
            "9698                         62  2012       June  \n",
            "9699                         62  2012       June  \n",
            "9936                        115  2012     August  \n",
            "9937                         71  2012     August  \n",
            "10172                        57  2012    October  \n",
            "10173                        57  2012    October  \n",
            "10402                        57  2012   December  \n",
            "10403                        57  2012   December  \n",
            "10841                       120  2013      April  \n",
            "10842                       215  2013      April  \n",
            "10863                       399  2013      April  \n",
            "10864                       560  2013      April  \n",
            "10979                       300  2013        May  \n",
            "10980                       300  2013        May  \n",
            "11210                       276  2013       July  \n",
            "11211                       276  2013       July  \n",
            "11538                        75  2013    October  \n",
            "11539                        75  2013    October  \n",
            "11783                       214  2013   December  \n",
            "11784                       216  2013   December  \n",
            "12011                       216  2014   February  \n",
            "12125                       211  2014      March  \n",
            "13025                       234  2014   November  \n",
            "13026                       234  2014   November  \n"
          ]
        }
      ],
      "source": [
        "missing_operating_airline = data[data['Operating Airline IATA Code'].isnull()]\n",
        "missing_published_airline = data[data['Published Airline IATA Code'].isnull()]\n",
        "\n",
        "# Print the rows with missing values\n",
        "print(\"Rows with missing Operating Airline IATA Code:\")\n",
        "print(missing_operating_airline)\n",
        "\n",
        "print(\"\\nRows with missing Published Airline IATA Code:\")\n",
        "print(missing_published_airline)\n"
      ]
    },
    {
      "cell_type": "code",
      "execution_count": 6,
      "id": "d3a62280-88e9-4fc0-b648-10aa29cfbb35",
      "metadata": {
        "colab": {
          "base_uri": "https://localhost:8080/"
        },
        "id": "d3a62280-88e9-4fc0-b648-10aa29cfbb35",
        "outputId": "58731018-8987-46e0-f497-e40c650931dc"
      },
      "outputs": [
        {
          "output_type": "stream",
          "name": "stdout",
          "text": [
            "index                          0\n",
            "Activity Period                0\n",
            "Operating Airline              0\n",
            "Operating Airline IATA Code    0\n",
            "Published Airline              0\n",
            "Published Airline IATA Code    0\n",
            "GEO Summary                    0\n",
            "GEO Region                     0\n",
            "Activity Type Code             0\n",
            "Price Category Code            0\n",
            "Terminal                       0\n",
            "Boarding Area                  0\n",
            "Passenger Count                0\n",
            "Adjusted Activity Type Code    0\n",
            "Adjusted Passenger Count       0\n",
            "Year                           0\n",
            "Month                          0\n",
            "dtype: int64\n"
          ]
        },
        {
          "output_type": "stream",
          "name": "stderr",
          "text": [
            "<ipython-input-6-3b17d5b636cc>:1: FutureWarning: A value is trying to be set on a copy of a DataFrame or Series through chained assignment using an inplace method.\n",
            "The behavior will change in pandas 3.0. This inplace method will never work because the intermediate object on which we are setting values always behaves as a copy.\n",
            "\n",
            "For example, when doing 'df[col].method(value, inplace=True)', try using 'df.method({col: value}, inplace=True)' or df[col] = df[col].method(value) instead, to perform the operation inplace on the original object.\n",
            "\n",
            "\n",
            "  data['Operating Airline IATA Code'].fillna('Unknown', inplace=True)\n",
            "<ipython-input-6-3b17d5b636cc>:2: FutureWarning: A value is trying to be set on a copy of a DataFrame or Series through chained assignment using an inplace method.\n",
            "The behavior will change in pandas 3.0. This inplace method will never work because the intermediate object on which we are setting values always behaves as a copy.\n",
            "\n",
            "For example, when doing 'df[col].method(value, inplace=True)', try using 'df.method({col: value}, inplace=True)' or df[col] = df[col].method(value) instead, to perform the operation inplace on the original object.\n",
            "\n",
            "\n",
            "  data['Published Airline IATA Code'].fillna('Unknown', inplace=True)\n"
          ]
        }
      ],
      "source": [
        "data['Operating Airline IATA Code'].fillna('Unknown', inplace=True)\n",
        "data['Published Airline IATA Code'].fillna('Unknown', inplace=True)\n",
        "\n",
        "print(data.isnull().sum())"
      ]
    },
    {
      "cell_type": "markdown",
      "id": "a37e3b79-061e-4b24-bc0e-b3bdfd512a8d",
      "metadata": {
        "id": "a37e3b79-061e-4b24-bc0e-b3bdfd512a8d"
      },
      "source": [
        "the year format is wrong (YYYYMM) we have to change it (YYYY-MM)"
      ]
    },
    {
      "cell_type": "code",
      "execution_count": 7,
      "id": "24abb969-de2d-41be-9aa2-980fd5b0503a",
      "metadata": {
        "colab": {
          "base_uri": "https://localhost:8080/"
        },
        "id": "24abb969-de2d-41be-9aa2-980fd5b0503a",
        "outputId": "e0a0f124-e4af-4ba4-9431-dbfaa6b20031"
      },
      "outputs": [
        {
          "output_type": "stream",
          "name": "stdout",
          "text": [
            "  Activity Period\n",
            "0      01-07-2005\n",
            "1      01-07-2005\n",
            "2      01-07-2005\n",
            "3      01-07-2005\n",
            "4      01-07-2005\n"
          ]
        }
      ],
      "source": [
        "# Convert 'Activity Period' to string if it is numeric\n",
        "data['Activity Period'] = data['Activity Period'].astype(str)\n",
        "\n",
        "# Convert to datetime using the correct format\n",
        "data['Activity Period'] = pd.to_datetime(data['Activity Period'], format='%Y%m', errors='coerce')\n",
        "\n",
        "# Format the dates as 'dd-mm-yyyy'\n",
        "data['Activity Period'] = data['Activity Period'].dt.strftime('%d-%m-%Y')\n",
        "\n",
        "# Verify the conversion\n",
        "print(data[['Activity Period']].head())\n"
      ]
    },
    {
      "cell_type": "markdown",
      "id": "d1256d54-f293-49a4-8fc1-86116a11adfe",
      "metadata": {
        "id": "d1256d54-f293-49a4-8fc1-86116a11adfe"
      },
      "source": [
        "standardise column name"
      ]
    },
    {
      "cell_type": "code",
      "execution_count": 8,
      "id": "0cac09b3-ac41-46c3-981a-844a71409038",
      "metadata": {
        "colab": {
          "base_uri": "https://localhost:8080/"
        },
        "id": "0cac09b3-ac41-46c3-981a-844a71409038",
        "outputId": "5ea682b9-7dc7-4267-dde3-1433fe5e8ec7"
      },
      "outputs": [
        {
          "output_type": "stream",
          "name": "stdout",
          "text": [
            "Index(['index', 'activity_period', 'operating_airline',\n",
            "       'operating_airline_iata_code', 'published_airline',\n",
            "       'published_airline_iata_code', 'geo_summary', 'geo_region',\n",
            "       'activity_type_code', 'price_category_code', 'terminal',\n",
            "       'boarding_area', 'passenger_count', 'adjusted_activity_type_code',\n",
            "       'adjusted_passenger_count', 'year', 'month'],\n",
            "      dtype='object')\n"
          ]
        }
      ],
      "source": [
        "# Standardize column names\n",
        "data.columns = data.columns.str.lower().str.replace(' ', '_')\n",
        "\n",
        "# Check the new column names\n",
        "print(data.columns)"
      ]
    },
    {
      "cell_type": "markdown",
      "id": "97c78052-ee60-46d1-8244-be1a08007901",
      "metadata": {
        "id": "97c78052-ee60-46d1-8244-be1a08007901"
      },
      "source": [
        "agregate data"
      ]
    },
    {
      "cell_type": "code",
      "execution_count": 9,
      "id": "434cfc7e-8481-4feb-a635-bd957a843c5b",
      "metadata": {
        "colab": {
          "base_uri": "https://localhost:8080/"
        },
        "id": "434cfc7e-8481-4feb-a635-bd957a843c5b",
        "outputId": "dec0f27f-7fbe-4ec1-8540-67cc09d51087"
      },
      "outputs": [
        {
          "output_type": "stream",
          "name": "stdout",
          "text": [
            "  activity_period  adjusted_passenger_count\n",
            "0      01-01-2006                   2471712\n",
            "1      01-01-2007                   2527036\n",
            "2      01-01-2008                   2685375\n",
            "3      01-01-2009                   2654860\n",
            "4      01-01-2010                   2796566\n"
          ]
        }
      ],
      "source": [
        "# Aggregate adjusted passenger count by 'activity_period'\n",
        "time_series_data = data.groupby('activity_period')['adjusted_passenger_count'].sum().reset_index()\n",
        "\n",
        "# Sort the data by date\n",
        "time_series_data = time_series_data.sort_values(by='activity_period')\n",
        "\n",
        "# Display the first few rows of the aggregated time series data\n",
        "print(time_series_data.head())\n"
      ]
    },
    {
      "cell_type": "code",
      "execution_count": 10,
      "id": "3caed650-57f9-44dd-baad-5e2799c2ac42",
      "metadata": {
        "colab": {
          "base_uri": "https://localhost:8080/",
          "height": 564
        },
        "id": "3caed650-57f9-44dd-baad-5e2799c2ac42",
        "outputId": "2877467f-c8e6-449a-a64b-07cb752516b0"
      },
      "outputs": [
        {
          "output_type": "display_data",
          "data": {
            "text/plain": [
              "<Figure size 1200x600 with 1 Axes>"
            ],
            "image/png": "[encoded data removed]"
          },
          "metadata": {}
        }
      ],
      "source": [
        "# Plot the time series data\n",
        "plt.figure(figsize=(12, 6))\n",
        "plt.plot(time_series_data['activity_period'], time_series_data['adjusted_passenger_count'], marker='o', color='b')\n",
        "plt.title('Monthly Passenger Count Over Time')\n",
        "plt.xlabel('Date')\n",
        "plt.ylabel('Adjusted Passenger Count')\n",
        "plt.grid()\n",
        "plt.show()\n"
      ]
    },
    {
      "cell_type": "markdown",
      "id": "6ef8d576-a0bb-44cb-8df4-958d0bdb1d86",
      "metadata": {
        "id": "6ef8d576-a0bb-44cb-8df4-958d0bdb1d86"
      },
      "source": [
        "starting with time series analysis with LTSM to handle sequential data"
      ]
    },
    {
      "cell_type": "code",
      "execution_count": 11,
      "id": "bfb5083e-f818-4872-8a65-66f650b302c2",
      "metadata": {
        "colab": {
          "base_uri": "https://localhost:8080/"
        },
        "id": "bfb5083e-f818-4872-8a65-66f650b302c2",
        "outputId": "d82c8f5e-9255-45d5-a109-83de2cd047b0"
      },
      "outputs": [
        {
          "output_type": "stream",
          "name": "stdout",
          "text": [
            "Scaled values: [[0.08784405]\n",
            " [0.10949578]\n",
            " [0.17146373]\n",
            " [0.1595213 ]\n",
            " [0.21497971]]\n"
          ]
        }
      ],
      "source": [
        "from sklearn.preprocessing import MinMaxScaler\n",
        "\n",
        "# Extract the passenger count values\n",
        "values = time_series_data['adjusted_passenger_count'].values.reshape(-1, 1)\n",
        "\n",
        "# Scale the values to the range [0, 1]\n",
        "scaler = MinMaxScaler(feature_range=(0, 1))\n",
        "scaled_values = scaler.fit_transform(values)\n",
        "print(\"Scaled values:\", scaled_values[:5])\n"
      ]
    },
    {
      "cell_type": "markdown",
      "id": "039dad20-8de3-4819-a0aa-f97fe89a44bc",
      "metadata": {
        "id": "039dad20-8de3-4819-a0aa-f97fe89a44bc"
      },
      "source": [
        "sequence for LTSM"
      ]
    },
    {
      "cell_type": "code",
      "execution_count": 12,
      "id": "fec0fcb5-fd23-4213-8572-55f7ee6066d0",
      "metadata": {
        "colab": {
          "base_uri": "https://localhost:8080/"
        },
        "id": "fec0fcb5-fd23-4213-8572-55f7ee6066d0",
        "outputId": "6e88c5db-cf81-4627-df32-a3cb8db0e4be"
      },
      "outputs": [
        {
          "output_type": "stream",
          "name": "stdout",
          "text": [
            "Shape of X: (117, 12, 1)\n",
            "Shape of y: (117, 1)\n"
          ]
        }
      ],
      "source": [
        "import numpy as np\n",
        "\n",
        "# Function to create sequences\n",
        "def create_sequences(data, sequence_length):\n",
        "    X, y = [], []\n",
        "    for i in range(len(data) - sequence_length):\n",
        "        X.append(data[i:i + sequence_length])\n",
        "        y.append(data[i + sequence_length])\n",
        "    return np.array(X), np.array(y)\n",
        "\n",
        "# Define sequence length (e.g., 12 months)\n",
        "sequence_length = 12\n",
        "\n",
        "# Create input-output sequences\n",
        "X, y = create_sequences(scaled_values, sequence_length)\n",
        "\n",
        "# Print the shapes of the input and output\n",
        "print(f\"Shape of X: {X.shape}\")\n",
        "print(f\"Shape of y: {y.shape}\")\n"
      ]
    },
    {
      "cell_type": "markdown",
      "id": "d9835caf-ce55-45af-af64-780b0a8a85bd",
      "metadata": {
        "id": "d9835caf-ce55-45af-af64-780b0a8a85bd"
      },
      "source": [
        "Split the Data into Training and Testing Sets"
      ]
    },
    {
      "cell_type": "code",
      "execution_count": 13,
      "id": "2fed7aa0-b249-445a-a0e9-d79ee5724f8e",
      "metadata": {
        "colab": {
          "base_uri": "https://localhost:8080/"
        },
        "id": "2fed7aa0-b249-445a-a0e9-d79ee5724f8e",
        "outputId": "638f57b4-df44-4a3b-bafb-2a8722446589"
      },
      "outputs": [
        {
          "output_type": "stream",
          "name": "stdout",
          "text": [
            "Training set size: (93, 12, 1)\n",
            "Testing set size: (24, 12, 1)\n"
          ]
        }
      ],
      "source": [
        "# Split the data into training (80%) and testing (20%) sets\n",
        "train_size = int(len(X) * 0.8)\n",
        "X_train, X_test = X[:train_size], X[train_size:]\n",
        "y_train, y_test = y[:train_size], y[train_size:]\n",
        "\n",
        "print(f\"Training set size: {X_train.shape}\")\n",
        "print(f\"Testing set size: {X_test.shape}\")\n"
      ]
    },
    {
      "cell_type": "markdown",
      "id": "4935d3d8-2e6b-4ff9-8855-f63bd289ca38",
      "metadata": {
        "id": "4935d3d8-2e6b-4ff9-8855-f63bd289ca38"
      },
      "source": [
        "We’ll use TensorFlow/Keras to build a simple LSTM network"
      ]
    },
    {
      "cell_type": "code",
      "execution_count": 14,
      "id": "61487c18-ef30-4dfe-92ec-1a9dd01f42c4",
      "metadata": {
        "colab": {
          "base_uri": "https://localhost:8080/"
        },
        "id": "61487c18-ef30-4dfe-92ec-1a9dd01f42c4",
        "outputId": "871ddbeb-ca0e-4c69-e002-fcebb02f4e69"
      },
      "outputs": [
        {
          "output_type": "stream",
          "name": "stdout",
          "text": [
            "Requirement already satisfied: tensorflow in /usr/local/lib/python3.10/dist-packages (2.17.1)\n",
            "Requirement already satisfied: absl-py>=1.0.0 in /usr/local/lib/python3.10/dist-packages (from tensorflow) (1.4.0)\n",
            "Requirement already satisfied: astunparse>=1.6.0 in /usr/local/lib/python3.10/dist-packages (from tensorflow) (1.6.3)\n",
            "Requirement already satisfied: flatbuffers>=24.3.25 in /usr/local/lib/python3.10/dist-packages (from tensorflow) (24.3.25)\n",
            "Requirement already satisfied: gast!=0.5.0,!=0.5.1,!=0.5.2,>=0.2.1 in /usr/local/lib/python3.10/dist-packages (from tensorflow) (0.6.0)\n",
            "Requirement already satisfied: google-pasta>=0.1.1 in /usr/local/lib/python3.10/dist-packages (from tensorflow) (0.2.0)\n",
            "Requirement already satisfied: h5py>=3.10.0 in /usr/local/lib/python3.10/dist-packages (from tensorflow) (3.12.1)\n",
            "Requirement already satisfied: libclang>=13.0.0 in /usr/local/lib/python3.10/dist-packages (from tensorflow) (18.1.1)\n",
            "Requirement already satisfied: ml-dtypes<0.5.0,>=0.3.1 in /usr/local/lib/python3.10/dist-packages (from tensorflow) (0.4.1)\n",
            "Requirement already satisfied: opt-einsum>=2.3.2 in /usr/local/lib/python3.10/dist-packages (from tensorflow) (3.4.0)\n",
            "Requirement already satisfied: packaging in /usr/local/lib/python3.10/dist-packages (from tensorflow) (24.2)\n",
            "Requirement already satisfied: protobuf!=4.21.0,!=4.21.1,!=4.21.2,!=4.21.3,!=4.21.4,!=4.21.5,<5.0.0dev,>=3.20.3 in /usr/local/lib/python3.10/dist-packages (from tensorflow) (4.25.5)\n",
            "Requirement already satisfied: requests<3,>=2.21.0 in /usr/local/lib/python3.10/dist-packages (from tensorflow) (2.32.3)\n",
            "Requirement already satisfied: setuptools in /usr/local/lib/python3.10/dist-packages (from tensorflow) (75.1.0)\n",
            "Requirement already satisfied: six>=1.12.0 in /usr/local/lib/python3.10/dist-packages (from tensorflow) (1.16.0)\n",
            "Requirement already satisfied: termcolor>=1.1.0 in /usr/local/lib/python3.10/dist-packages (from tensorflow) (2.5.0)\n",
            "Requirement already satisfied: typing-extensions>=3.6.6 in /usr/local/lib/python3.10/dist-packages (from tensorflow) (4.12.2)\n",
            "Requirement already satisfied: wrapt>=1.11.0 in /usr/local/lib/python3.10/dist-packages (from tensorflow) (1.16.0)\n",
            "Requirement already satisfied: grpcio<2.0,>=1.24.3 in /usr/local/lib/python3.10/dist-packages (from tensorflow) (1.68.0)\n",
            "Requirement already satisfied: tensorboard<2.18,>=2.17 in /usr/local/lib/python3.10/dist-packages (from tensorflow) (2.17.1)\n",
            "Requirement already satisfied: keras>=3.2.0 in /usr/local/lib/python3.10/dist-packages (from tensorflow) (3.5.0)\n",
            "Requirement already satisfied: tensorflow-io-gcs-filesystem>=0.23.1 in /usr/local/lib/python3.10/dist-packages (from tensorflow) (0.37.1)\n",
            "Requirement already satisfied: numpy<2.0.0,>=1.23.5 in /usr/local/lib/python3.10/dist-packages (from tensorflow) (1.26.4)\n",
            "Requirement already satisfied: wheel<1.0,>=0.23.0 in /usr/local/lib/python3.10/dist-packages (from astunparse>=1.6.0->tensorflow) (0.45.0)\n",
            "Requirement already satisfied: rich in /usr/local/lib/python3.10/dist-packages (from keras>=3.2.0->tensorflow) (13.9.4)\n",
            "Requirement already satisfied: namex in /usr/local/lib/python3.10/dist-packages (from keras>=3.2.0->tensorflow) (0.0.8)\n",
            "Requirement already satisfied: optree in /usr/local/lib/python3.10/dist-packages (from keras>=3.2.0->tensorflow) (0.13.1)\n",
            "Requirement already satisfied: charset-normalizer<4,>=2 in /usr/local/lib/python3.10/dist-packages (from requests<3,>=2.21.0->tensorflow) (3.4.0)\n",
            "Requirement already satisfied: idna<4,>=2.5 in /usr/local/lib/python3.10/dist-packages (from requests<3,>=2.21.0->tensorflow) (3.10)\n",
            "Requirement already satisfied: urllib3<3,>=1.21.1 in /usr/local/lib/python3.10/dist-packages (from requests<3,>=2.21.0->tensorflow) (2.2.3)\n",
            "Requirement already satisfied: certifi>=2017.4.17 in /usr/local/lib/python3.10/dist-packages (from requests<3,>=2.21.0->tensorflow) (2024.8.30)\n",
            "Requirement already satisfied: markdown>=2.6.8 in /usr/local/lib/python3.10/dist-packages (from tensorboard<2.18,>=2.17->tensorflow) (3.7)\n",
            "Requirement already satisfied: tensorboard-data-server<0.8.0,>=0.7.0 in /usr/local/lib/python3.10/dist-packages (from tensorboard<2.18,>=2.17->tensorflow) (0.7.2)\n",
            "Requirement already satisfied: werkzeug>=1.0.1 in /usr/local/lib/python3.10/dist-packages (from tensorboard<2.18,>=2.17->tensorflow) (3.1.3)\n",
            "Requirement already satisfied: MarkupSafe>=2.1.1 in /usr/local/lib/python3.10/dist-packages (from werkzeug>=1.0.1->tensorboard<2.18,>=2.17->tensorflow) (3.0.2)\n",
            "Requirement already satisfied: markdown-it-py>=2.2.0 in /usr/local/lib/python3.10/dist-packages (from rich->keras>=3.2.0->tensorflow) (3.0.0)\n",
            "Requirement already satisfied: pygments<3.0.0,>=2.13.0 in /usr/local/lib/python3.10/dist-packages (from rich->keras>=3.2.0->tensorflow) (2.18.0)\n",
            "Requirement already satisfied: mdurl~=0.1 in /usr/local/lib/python3.10/dist-packages (from markdown-it-py>=2.2.0->rich->keras>=3.2.0->tensorflow) (0.1.2)\n"
          ]
        }
      ],
      "source": [
        "pip install tensorflow\n"
      ]
    },
    {
      "cell_type": "code",
      "execution_count": null,
      "id": "aca46994-73a9-4ffd-ad53-20a3185c7c86",
      "metadata": {
        "colab": {
          "base_uri": "https://localhost:8080/",
          "height": 106
        },
        "id": "aca46994-73a9-4ffd-ad53-20a3185c7c86",
        "outputId": "66e6caca-a4d3-40c1-c14b-912f7d7abc58"
      },
      "outputs": [
        {
          "output_type": "error",
          "ename": "SyntaxError",
          "evalue": "invalid syntax (<ipython-input-17-443de7b7776c>, line 3)",
          "traceback": [
            "\u001b[0;36m  File \u001b[0;32m\"<ipython-input-17-443de7b7776c>\"\u001b[0;36m, line \u001b[0;32m3\u001b[0m\n\u001b[0;31m    pip install tensorflow-gpu\u001b[0m\n\u001b[0m        ^\u001b[0m\n\u001b[0;31mSyntaxError\u001b[0m\u001b[0;31m:\u001b[0m invalid syntax\n"
          ]
        }
      ],
      "source": [
        "import tensorflow as tf\n",
        "print(tf.__version__)\n",
        "\n",
        "\n"
      ]
    },
    {
      "cell_type": "code",
      "source": [
        "pip install tensorflow-gpu\n"
      ],
      "metadata": {
        "colab": {
          "base_uri": "https://localhost:8080/"
        },
        "id": "M5wogR5jWPJF",
        "outputId": "d029148a-8e3c-4449-c033-5a35adc5d378"
      },
      "id": "M5wogR5jWPJF",
      "execution_count": null,
      "outputs": [
        {
          "output_type": "stream",
          "name": "stdout",
          "text": [
            "Collecting tensorflow-gpu\n",
            "  Downloading tensorflow-gpu-2.12.0.tar.gz (2.6 kB)\n",
            "  \u001b[1;31merror\u001b[0m: \u001b[1msubprocess-exited-with-error\u001b[0m\n",
            "  \n",
            "  \u001b[31m×\u001b[0m \u001b[32mpython setup.py egg_info\u001b[0m did not run successfully.\n",
            "  \u001b[31m│\u001b[0m exit code: \u001b[1;36m1\u001b[0m\n",
            "  \u001b[31m╰─>\u001b[0m See above for output.\n",
            "  \n",
            "  \u001b[1;35mnote\u001b[0m: This error originates from a subprocess, and is likely not a problem with pip.\n",
            "  Preparing metadata (setup.py) ... \u001b[?25l\u001b[?25herror\n",
            "\u001b[1;31merror\u001b[0m: \u001b[1mmetadata-generation-failed\u001b[0m\n",
            "\n",
            "\u001b[31m×\u001b[0m Encountered error while generating package metadata.\n",
            "\u001b[31m╰─>\u001b[0m See above for output.\n",
            "\n",
            "\u001b[1;35mnote\u001b[0m: This is an issue with the package mentioned above, not pip.\n",
            "\u001b[1;36mhint\u001b[0m: See above for details.\n"
          ]
        }
      ]
    },
    {
      "cell_type": "code",
      "execution_count": 15,
      "id": "c72da73a-d95f-43b2-bc10-888aa3c0d48d",
      "metadata": {
        "colab": {
          "base_uri": "https://localhost:8080/",
          "height": 280
        },
        "id": "c72da73a-d95f-43b2-bc10-888aa3c0d48d",
        "outputId": "62f1f84a-92aa-4bec-c7c6-d9a9d3cb3d34"
      },
      "outputs": [
        {
          "output_type": "stream",
          "name": "stderr",
          "text": [
            "/usr/local/lib/python3.10/dist-packages/keras/src/layers/rnn/rnn.py:204: UserWarning: Do not pass an `input_shape`/`input_dim` argument to a layer. When using Sequential models, prefer using an `Input(shape)` object as the first layer in the model instead.\n",
            "  super().__init__(**kwargs)\n"
          ]
        },
        {
          "output_type": "display_data",
          "data": {
            "text/plain": [
              "\u001b[1mModel: \"sequential\"\u001b[0m\n"
            ],
            "text/html": [
              "<pre style=\"white-space:pre;overflow-x:auto;line-height:normal;font-family:Menlo,'DejaVu Sans Mono',consolas,'Courier New',monospace\"><span style=\"font-weight: bold\">Model: \"sequential\"</span>\n",
              "</pre>\n"
            ]
          },
          "metadata": {}
        },
        {
          "output_type": "display_data",
          "data": {
            "text/plain": [
              "┏━━━━━━━━━━━━━━━━━━━━━━━━━━━━━━━━━━━━━━┳━━━━━━━━━━━━━━━━━━━━━━━━━━━━━┳━━━━━━━━━━━━━━━━━┓\n",
              "┃\u001b[1m \u001b[0m\u001b[1mLayer (type)                        \u001b[0m\u001b[1m \u001b[0m┃\u001b[1m \u001b[0m\u001b[1mOutput Shape               \u001b[0m\u001b[1m \u001b[0m┃\u001b[1m \u001b[0m\u001b[1m        Param #\u001b[0m\u001b[1m \u001b[0m┃\n",
              "┡━━━━━━━━━━━━━━━━━━━━━━━━━━━━━━━━━━━━━━╇━━━━━━━━━━━━━━━━━━━━━━━━━━━━━╇━━━━━━━━━━━━━━━━━┩\n",
              "│ lstm (\u001b[38;5;33mLSTM\u001b[0m)                          │ (\u001b[38;5;45mNone\u001b[0m, \u001b[38;5;34m12\u001b[0m, \u001b[38;5;34m50\u001b[0m)              │          \u001b[38;5;34m10,400\u001b[0m │\n",
              "├──────────────────────────────────────┼─────────────────────────────┼─────────────────┤\n",
              "│ lstm_1 (\u001b[38;5;33mLSTM\u001b[0m)                        │ (\u001b[38;5;45mNone\u001b[0m, \u001b[38;5;34m50\u001b[0m)                  │          \u001b[38;5;34m20,200\u001b[0m │\n",
              "├──────────────────────────────────────┼─────────────────────────────┼─────────────────┤\n",
              "│ dense (\u001b[38;5;33mDense\u001b[0m)                        │ (\u001b[38;5;45mNone\u001b[0m, \u001b[38;5;34m1\u001b[0m)                   │              \u001b[38;5;34m51\u001b[0m │\n",
              "└──────────────────────────────────────┴─────────────────────────────┴─────────────────┘\n"
            ],
            "text/html": [
              "<pre style=\"white-space:pre;overflow-x:auto;line-height:normal;font-family:Menlo,'DejaVu Sans Mono',consolas,'Courier New',monospace\">┏━━━━━━━━━━━━━━━━━━━━━━━━━━━━━━━━━━━━━━┳━━━━━━━━━━━━━━━━━━━━━━━━━━━━━┳━━━━━━━━━━━━━━━━━┓\n",
              "┃<span style=\"font-weight: bold\"> Layer (type)                         </span>┃<span style=\"font-weight: bold\"> Output Shape                </span>┃<span style=\"font-weight: bold\">         Param # </span>┃\n",
              "┡━━━━━━━━━━━━━━━━━━━━━━━━━━━━━━━━━━━━━━╇━━━━━━━━━━━━━━━━━━━━━━━━━━━━━╇━━━━━━━━━━━━━━━━━┩\n",
              "│ lstm (<span style=\"color: #0087ff; text-decoration-color: #0087ff\">LSTM</span>)                          │ (<span style=\"color: #00d7ff; text-decoration-color: #00d7ff\">None</span>, <span style=\"color: #00af00; text-decoration-color: #00af00\">12</span>, <span style=\"color: #00af00; text-decoration-color: #00af00\">50</span>)              │          <span style=\"color: #00af00; text-decoration-color: #00af00\">10,400</span> │\n",
              "├──────────────────────────────────────┼─────────────────────────────┼─────────────────┤\n",
              "│ lstm_1 (<span style=\"color: #0087ff; text-decoration-color: #0087ff\">LSTM</span>)                        │ (<span style=\"color: #00d7ff; text-decoration-color: #00d7ff\">None</span>, <span style=\"color: #00af00; text-decoration-color: #00af00\">50</span>)                  │          <span style=\"color: #00af00; text-decoration-color: #00af00\">20,200</span> │\n",
              "├──────────────────────────────────────┼─────────────────────────────┼─────────────────┤\n",
              "│ dense (<span style=\"color: #0087ff; text-decoration-color: #0087ff\">Dense</span>)                        │ (<span style=\"color: #00d7ff; text-decoration-color: #00d7ff\">None</span>, <span style=\"color: #00af00; text-decoration-color: #00af00\">1</span>)                   │              <span style=\"color: #00af00; text-decoration-color: #00af00\">51</span> │\n",
              "└──────────────────────────────────────┴─────────────────────────────┴─────────────────┘\n",
              "</pre>\n"
            ]
          },
          "metadata": {}
        },
        {
          "output_type": "display_data",
          "data": {
            "text/plain": [
              "\u001b[1m Total params: \u001b[0m\u001b[38;5;34m30,651\u001b[0m (119.73 KB)\n"
            ],
            "text/html": [
              "<pre style=\"white-space:pre;overflow-x:auto;line-height:normal;font-family:Menlo,'DejaVu Sans Mono',consolas,'Courier New',monospace\"><span style=\"font-weight: bold\"> Total params: </span><span style=\"color: #00af00; text-decoration-color: #00af00\">30,651</span> (119.73 KB)\n",
              "</pre>\n"
            ]
          },
          "metadata": {}
        },
        {
          "output_type": "display_data",
          "data": {
            "text/plain": [
              "\u001b[1m Trainable params: \u001b[0m\u001b[38;5;34m30,651\u001b[0m (119.73 KB)\n"
            ],
            "text/html": [
              "<pre style=\"white-space:pre;overflow-x:auto;line-height:normal;font-family:Menlo,'DejaVu Sans Mono',consolas,'Courier New',monospace\"><span style=\"font-weight: bold\"> Trainable params: </span><span style=\"color: #00af00; text-decoration-color: #00af00\">30,651</span> (119.73 KB)\n",
              "</pre>\n"
            ]
          },
          "metadata": {}
        },
        {
          "output_type": "display_data",
          "data": {
            "text/plain": [
              "\u001b[1m Non-trainable params: \u001b[0m\u001b[38;5;34m0\u001b[0m (0.00 B)\n"
            ],
            "text/html": [
              "<pre style=\"white-space:pre;overflow-x:auto;line-height:normal;font-family:Menlo,'DejaVu Sans Mono',consolas,'Courier New',monospace\"><span style=\"font-weight: bold\"> Non-trainable params: </span><span style=\"color: #00af00; text-decoration-color: #00af00\">0</span> (0.00 B)\n",
              "</pre>\n"
            ]
          },
          "metadata": {}
        }
      ],
      "source": [
        "from tensorflow.keras.models import Sequential\n",
        "from tensorflow.keras.layers import LSTM, Dense\n",
        "\n",
        "# Build the LSTM model\n",
        "model = Sequential([\n",
        "    LSTM(50, activation='relu', return_sequences=True, input_shape=(12, 1)),\n",
        "    LSTM(50, activation='relu'),\n",
        "    Dense(1)\n",
        "])\n",
        "\n",
        "# Compile the model\n",
        "model.compile(optimizer='adam', loss='mean_squared_error')\n",
        "model.summary()\n"
      ]
    },
    {
      "cell_type": "markdown",
      "source": [
        "train the model"
      ],
      "metadata": {
        "id": "F9ICkmmZWf8W"
      },
      "id": "F9ICkmmZWf8W"
    },
    {
      "cell_type": "code",
      "execution_count": 16,
      "id": "29d60582-4461-46dc-82b3-6fb71af8b38a",
      "metadata": {
        "colab": {
          "base_uri": "https://localhost:8080/"
        },
        "id": "29d60582-4461-46dc-82b3-6fb71af8b38a",
        "outputId": "121d4708-c19b-4687-e218-b3758efcc933"
      },
      "outputs": [
        {
          "output_type": "stream",
          "name": "stdout",
          "text": [
            "Epoch 1/20\n",
            "\u001b[1m3/3\u001b[0m \u001b[32m━━━━━━━━━━━━━━━━━━━━\u001b[0m\u001b[37m\u001b[0m \u001b[1m5s\u001b[0m 197ms/step - loss: 0.2809 - val_loss: 0.1850\n",
            "Epoch 2/20\n",
            "\u001b[1m3/3\u001b[0m \u001b[32m━━━━━━━━━━━━━━━━━━━━\u001b[0m\u001b[37m\u001b[0m \u001b[1m0s\u001b[0m 21ms/step - loss: 0.2394 - val_loss: 0.1622\n",
            "Epoch 3/20\n",
            "\u001b[1m3/3\u001b[0m \u001b[32m━━━━━━━━━━━━━━━━━━━━\u001b[0m\u001b[37m\u001b[0m \u001b[1m0s\u001b[0m 22ms/step - loss: 0.2165 - val_loss: 0.1391\n",
            "Epoch 4/20\n",
            "\u001b[1m3/3\u001b[0m \u001b[32m━━━━━━━━━━━━━━━━━━━━\u001b[0m\u001b[37m\u001b[0m \u001b[1m0s\u001b[0m 23ms/step - loss: 0.1692 - val_loss: 0.1129\n",
            "Epoch 5/20\n",
            "\u001b[1m3/3\u001b[0m \u001b[32m━━━━━━━━━━━━━━━━━━━━\u001b[0m\u001b[37m\u001b[0m \u001b[1m0s\u001b[0m 23ms/step - loss: 0.1358 - val_loss: 0.0848\n",
            "Epoch 6/20\n",
            "\u001b[1m3/3\u001b[0m \u001b[32m━━━━━━━━━━━━━━━━━━━━\u001b[0m\u001b[37m\u001b[0m \u001b[1m0s\u001b[0m 28ms/step - loss: 0.1055 - val_loss: 0.0575\n",
            "Epoch 7/20\n",
            "\u001b[1m3/3\u001b[0m \u001b[32m━━━━━━━━━━━━━━━━━━━━\u001b[0m\u001b[37m\u001b[0m \u001b[1m0s\u001b[0m 22ms/step - loss: 0.0614 - val_loss: 0.0407\n",
            "Epoch 8/20\n",
            "\u001b[1m3/3\u001b[0m \u001b[32m━━━━━━━━━━━━━━━━━━━━\u001b[0m\u001b[37m\u001b[0m \u001b[1m0s\u001b[0m 23ms/step - loss: 0.0403 - val_loss: 0.0545\n",
            "Epoch 9/20\n",
            "\u001b[1m3/3\u001b[0m \u001b[32m━━━━━━━━━━━━━━━━━━━━\u001b[0m\u001b[37m\u001b[0m \u001b[1m0s\u001b[0m 23ms/step - loss: 0.0499 - val_loss: 0.0668\n",
            "Epoch 10/20\n",
            "\u001b[1m3/3\u001b[0m \u001b[32m━━━━━━━━━━━━━━━━━━━━\u001b[0m\u001b[37m\u001b[0m \u001b[1m0s\u001b[0m 33ms/step - loss: 0.0500 - val_loss: 0.0509\n",
            "Epoch 11/20\n",
            "\u001b[1m3/3\u001b[0m \u001b[32m━━━━━━━━━━━━━━━━━━━━\u001b[0m\u001b[37m\u001b[0m \u001b[1m0s\u001b[0m 22ms/step - loss: 0.0434 - val_loss: 0.0416\n",
            "Epoch 12/20\n",
            "\u001b[1m3/3\u001b[0m \u001b[32m━━━━━━━━━━━━━━━━━━━━\u001b[0m\u001b[37m\u001b[0m \u001b[1m0s\u001b[0m 30ms/step - loss: 0.0332 - val_loss: 0.0410\n",
            "Epoch 13/20\n",
            "\u001b[1m3/3\u001b[0m \u001b[32m━━━━━━━━━━━━━━━━━━━━\u001b[0m\u001b[37m\u001b[0m \u001b[1m0s\u001b[0m 23ms/step - loss: 0.0384 - val_loss: 0.0413\n",
            "Epoch 14/20\n",
            "\u001b[1m3/3\u001b[0m \u001b[32m━━━━━━━━━━━━━━━━━━━━\u001b[0m\u001b[37m\u001b[0m \u001b[1m0s\u001b[0m 25ms/step - loss: 0.0441 - val_loss: 0.0406\n",
            "Epoch 15/20\n",
            "\u001b[1m3/3\u001b[0m \u001b[32m━━━━━━━━━━━━━━━━━━━━\u001b[0m\u001b[37m\u001b[0m \u001b[1m0s\u001b[0m 22ms/step - loss: 0.0368 - val_loss: 0.0408\n",
            "Epoch 16/20\n",
            "\u001b[1m3/3\u001b[0m \u001b[32m━━━━━━━━━━━━━━━━━━━━\u001b[0m\u001b[37m\u001b[0m \u001b[1m0s\u001b[0m 25ms/step - loss: 0.0353 - val_loss: 0.0420\n",
            "Epoch 17/20\n",
            "\u001b[1m3/3\u001b[0m \u001b[32m━━━━━━━━━━━━━━━━━━━━\u001b[0m\u001b[37m\u001b[0m \u001b[1m0s\u001b[0m 24ms/step - loss: 0.0395 - val_loss: 0.0443\n",
            "Epoch 18/20\n",
            "\u001b[1m3/3\u001b[0m \u001b[32m━━━━━━━━━━━━━━━━━━━━\u001b[0m\u001b[37m\u001b[0m \u001b[1m0s\u001b[0m 25ms/step - loss: 0.0368 - val_loss: 0.0445\n",
            "Epoch 19/20\n",
            "\u001b[1m3/3\u001b[0m \u001b[32m━━━━━━━━━━━━━━━━━━━━\u001b[0m\u001b[37m\u001b[0m \u001b[1m0s\u001b[0m 22ms/step - loss: 0.0338 - val_loss: 0.0434\n",
            "Epoch 20/20\n",
            "\u001b[1m3/3\u001b[0m \u001b[32m━━━━━━━━━━━━━━━━━━━━\u001b[0m\u001b[37m\u001b[0m \u001b[1m0s\u001b[0m 27ms/step - loss: 0.0371 - val_loss: 0.0417\n"
          ]
        }
      ],
      "source": [
        "# Train the LSTM model\n",
        "history = model.fit(X_train, y_train, epochs=20, batch_size=32, validation_data=(X_test, y_test), verbose=1)\n"
      ]
    },
    {
      "cell_type": "markdown",
      "source": [
        "evaluate and predict"
      ],
      "metadata": {
        "id": "n4apOcR6W3rS"
      },
      "id": "n4apOcR6W3rS"
    },
    {
      "cell_type": "code",
      "source": [
        "# Make predictions\n",
        "y_pred = model.predict(X_test)\n",
        "\n",
        "# Inverse transform the predictions to the original scale\n",
        "y_pred_original = scaler.inverse_transform(y_pred)\n",
        "y_test_original = scaler.inverse_transform(y_test.reshape(-1, 1))\n",
        "\n",
        "# Plot the results\n",
        "plt.figure(figsize=(12, 6))\n",
        "plt.plot(y_test_original, label='Actual Passenger Count', color='blue')\n",
        "plt.plot(y_pred_original, label='Predicted Passenger Count', color='red')\n",
        "plt.title('LSTM Model Predictions vs Actual')\n",
        "plt.xlabel('Time')\n",
        "plt.ylabel('Passenger Count')\n",
        "plt.legend()\n",
        "plt.show()\n"
      ],
      "metadata": {
        "colab": {
          "base_uri": "https://localhost:8080/",
          "height": 581
        },
        "id": "4_NsYlJvW6CJ",
        "outputId": "3f66baef-e914-4288-b6a8-f5823aeaf221"
      },
      "id": "4_NsYlJvW6CJ",
      "execution_count": 17,
      "outputs": [
        {
          "output_type": "stream",
          "name": "stdout",
          "text": [
            "\u001b[1m1/1\u001b[0m \u001b[32m━━━━━━━━━━━━━━━━━━━━\u001b[0m\u001b[37m\u001b[0m \u001b[1m0s\u001b[0m 244ms/step\n"
          ]
        },
        {
          "output_type": "display_data",
          "data": {
            "text/plain": [
              "<Figure size 1200x600 with 1 Axes>"
            ],
            "image/png": "[encoded data removed]"
          },
          "metadata": {}
        }
      ]
    },
    {
      "cell_type": "markdown",
      "source": [
        "valuate Model Performance (Using Metrics)\n",
        "Calculate key evaluation metrics:\n",
        "\n",
        "MAE (Mean Absolute Error)\n",
        "RMSE (Root Mean Squared Error)\n",
        "MAPE (Mean Absolute Percentage Error)"
      ],
      "metadata": {
        "id": "7-UCcogbZVXE"
      },
      "id": "7-UCcogbZVXE"
    },
    {
      "cell_type": "code",
      "source": [
        "from sklearn.metrics import mean_absolute_error, mean_squared_error\n",
        "import numpy as np\n",
        "import matplotlib.pyplot as plt\n",
        "\n",
        "# Assuming y_test and y_pred are already defined as in your provided code\n",
        "\n",
        "# Inverse transform the predictions and actual values\n",
        "y_pred_original = scaler.inverse_transform(y_pred)  # Inverse transform predictions\n",
        "y_test_original = scaler.inverse_transform(y_test.reshape(-1, 1))  # Inverse transform actual values\n",
        "\n",
        "# Calculate MAE, RMSE, and MAPE\n",
        "mae = mean_absolute_error(y_test_original, y_pred_original)\n",
        "rmse = np.sqrt(mean_squared_error(y_test_original, y_pred_original))\n",
        "mape = np.mean(np.abs((y_test_original - y_pred_original) / y_test_original)) * 100\n",
        "\n",
        "# Print the evaluation metrics\n",
        "print(f\"MAE: {mae}, RMSE: {rmse}, MAPE: {mape}\")\n",
        "\n",
        "\n"
      ],
      "metadata": {
        "colab": {
          "base_uri": "https://localhost:8080/"
        },
        "id": "qX42Dix3ZWj6",
        "outputId": "f90a07f0-934c-4235-fb19-6d47e2b7be47"
      },
      "id": "qX42Dix3ZWj6",
      "execution_count": null,
      "outputs": [
        {
          "output_type": "stream",
          "name": "stdout",
          "text": [
            "MAE: 428344.5520833333, RMSE: 501590.2303552636, MAPE: 13.298468650841839\n"
          ]
        }
      ]
    },
    {
      "cell_type": "markdown",
      "source": [
        "fine tuning"
      ],
      "metadata": {
        "id": "zC_oto7Aaco-"
      },
      "id": "zC_oto7Aaco-"
    },
    {
      "cell_type": "code",
      "source": [
        "pip install scikeras\n"
      ],
      "metadata": {
        "colab": {
          "base_uri": "https://localhost:8080/"
        },
        "id": "93RpzUQuaeZx",
        "outputId": "0147a055-0142-4593-f113-f4f7cef61a78"
      },
      "id": "93RpzUQuaeZx",
      "execution_count": null,
      "outputs": [
        {
          "output_type": "stream",
          "name": "stdout",
          "text": [
            "Collecting scikeras\n",
            "  Downloading scikeras-0.13.0-py3-none-any.whl.metadata (3.1 kB)\n",
            "Requirement already satisfied: keras>=3.2.0 in /usr/local/lib/python3.10/dist-packages (from scikeras) (3.5.0)\n",
            "Requirement already satisfied: scikit-learn>=1.4.2 in /usr/local/lib/python3.10/dist-packages (from scikeras) (1.5.2)\n",
            "Requirement already satisfied: absl-py in /usr/local/lib/python3.10/dist-packages (from keras>=3.2.0->scikeras) (1.4.0)\n",
            "Requirement already satisfied: numpy in /usr/local/lib/python3.10/dist-packages (from keras>=3.2.0->scikeras) (1.26.4)\n",
            "Requirement already satisfied: rich in /usr/local/lib/python3.10/dist-packages (from keras>=3.2.0->scikeras) (13.9.4)\n",
            "Requirement already satisfied: namex in /usr/local/lib/python3.10/dist-packages (from keras>=3.2.0->scikeras) (0.0.8)\n",
            "Requirement already satisfied: h5py in /usr/local/lib/python3.10/dist-packages (from keras>=3.2.0->scikeras) (3.12.1)\n",
            "Requirement already satisfied: optree in /usr/local/lib/python3.10/dist-packages (from keras>=3.2.0->scikeras) (0.13.1)\n",
            "Requirement already satisfied: ml-dtypes in /usr/local/lib/python3.10/dist-packages (from keras>=3.2.0->scikeras) (0.4.1)\n",
            "Requirement already satisfied: packaging in /usr/local/lib/python3.10/dist-packages (from keras>=3.2.0->scikeras) (24.2)\n",
            "Requirement already satisfied: scipy>=1.6.0 in /usr/local/lib/python3.10/dist-packages (from scikit-learn>=1.4.2->scikeras) (1.13.1)\n",
            "Requirement already satisfied: joblib>=1.2.0 in /usr/local/lib/python3.10/dist-packages (from scikit-learn>=1.4.2->scikeras) (1.4.2)\n",
            "Requirement already satisfied: threadpoolctl>=3.1.0 in /usr/local/lib/python3.10/dist-packages (from scikit-learn>=1.4.2->scikeras) (3.5.0)\n",
            "Requirement already satisfied: typing-extensions>=4.5.0 in /usr/local/lib/python3.10/dist-packages (from optree->keras>=3.2.0->scikeras) (4.12.2)\n",
            "Requirement already satisfied: markdown-it-py>=2.2.0 in /usr/local/lib/python3.10/dist-packages (from rich->keras>=3.2.0->scikeras) (3.0.0)\n",
            "Requirement already satisfied: pygments<3.0.0,>=2.13.0 in /usr/local/lib/python3.10/dist-packages (from rich->keras>=3.2.0->scikeras) (2.18.0)\n",
            "Requirement already satisfied: mdurl~=0.1 in /usr/local/lib/python3.10/dist-packages (from markdown-it-py>=2.2.0->rich->keras>=3.2.0->scikeras) (0.1.2)\n",
            "Downloading scikeras-0.13.0-py3-none-any.whl (26 kB)\n",
            "Installing collected packages: scikeras\n",
            "Successfully installed scikeras-0.13.0\n"
          ]
        }
      ]
    },
    {
      "cell_type": "code",
      "source": [
        "from sklearn.model_selection import GridSearchCV\n",
        "from keras.models import Sequential\n",
        "from keras.layers import LSTM, Dense\n",
        "from keras.optimizers import Adam, SGD\n",
        "from scikeras.wrappers import KerasRegressor  # Updated import\n",
        "\n",
        "# Define function for creating LSTM model\n",
        "def create_lstm_model(neurons=50, optimizer='adam'):\n",
        "    model = Sequential()\n",
        "    model.add(LSTM(neurons, activation='relu', input_shape=(X_train.shape[1], 1)))\n",
        "    model.add(Dense(1))\n",
        "    model.compile(optimizer=optimizer, loss='mean_squared_error')\n",
        "    return model\n",
        "\n",
        "# Define grid search parameters (without 'neurons' because it's handled separately)\n",
        "param_grid = {\n",
        "    'batch_size': [32, 64],\n",
        "    'epochs': [50, 100],\n",
        "    'optimizer': ['adam', 'sgd']\n",
        "}\n",
        "\n",
        "# Initialize KerasRegressor with model parameters\n",
        "model = KerasRegressor(model=create_lstm_model, neurons=50, verbose=0)  # Set default neurons value here\n",
        "\n",
        "# Initialize GridSearchCV with corrected parameters\n",
        "grid = GridSearchCV(estimator=model, param_grid=param_grid, n_jobs=-1, cv=3)\n",
        "\n",
        "# Fit grid search\n",
        "grid_result = grid.fit(X_train, y_train)\n",
        "\n",
        "# Print best parameters found by GridSearchCV\n",
        "print(f\"Best Parameters: {grid_result.best_params_}\")\n"
      ],
      "metadata": {
        "colab": {
          "base_uri": "https://localhost:8080/"
        },
        "id": "uJ-7W3Mka-xp",
        "outputId": "c0ec8529-12bb-4548-a9f9-947cd89fa694"
      },
      "id": "uJ-7W3Mka-xp",
      "execution_count": null,
      "outputs": [
        {
          "output_type": "stream",
          "name": "stderr",
          "text": [
            "/usr/local/lib/python3.10/dist-packages/keras/src/layers/rnn/rnn.py:204: UserWarning: Do not pass an `input_shape`/`input_dim` argument to a layer. When using Sequential models, prefer using an `Input(shape)` object as the first layer in the model instead.\n",
            "  super().__init__(**kwargs)\n"
          ]
        },
        {
          "output_type": "stream",
          "name": "stdout",
          "text": [
            "Best Parameters: {'batch_size': 32, 'epochs': 100, 'optimizer': 'sgd'}\n"
          ]
        }
      ]
    },
    {
      "cell_type": "markdown",
      "source": [
        "train model with best Hyperparameter"
      ],
      "metadata": {
        "id": "pa-7fLdsk6p0"
      },
      "id": "pa-7fLdsk6p0"
    },
    {
      "cell_type": "code",
      "source": [
        "# Define the model with the best parameters\n",
        "best_model = create_lstm_model(neurons=50, optimizer='sgd')\n",
        "\n",
        "# Fit the model with the best batch size and epochs\n",
        "history = best_model.fit(X_train, y_train, batch_size=32, epochs=100, verbose=1)\n"
      ],
      "metadata": {
        "colab": {
          "base_uri": "https://localhost:8080/"
        },
        "id": "Ox_oGDRgk_BI",
        "outputId": "75588cd1-f5ce-474e-c840-d01ebbb92289"
      },
      "id": "Ox_oGDRgk_BI",
      "execution_count": null,
      "outputs": [
        {
          "output_type": "stream",
          "name": "stdout",
          "text": [
            "Epoch 1/100\n",
            "\u001b[1m3/3\u001b[0m \u001b[32m━━━━━━━━━━━━━━━━━━━━\u001b[0m\u001b[37m\u001b[0m \u001b[1m1s\u001b[0m 8ms/step - loss: 0.2854  \n",
            "Epoch 2/100\n",
            "\u001b[1m3/3\u001b[0m \u001b[32m━━━━━━━━━━━━━━━━━━━━\u001b[0m\u001b[37m\u001b[0m \u001b[1m0s\u001b[0m 7ms/step - loss: 0.2136 \n",
            "Epoch 3/100\n",
            "\u001b[1m3/3\u001b[0m \u001b[32m━━━━━━━━━━━━━━━━━━━━\u001b[0m\u001b[37m\u001b[0m \u001b[1m0s\u001b[0m 7ms/step - loss: 0.1912 \n",
            "Epoch 4/100\n",
            "\u001b[1m3/3\u001b[0m \u001b[32m━━━━━━━━━━━━━━━━━━━━\u001b[0m\u001b[37m\u001b[0m \u001b[1m0s\u001b[0m 7ms/step - loss: 0.1384 \n",
            "Epoch 5/100\n",
            "\u001b[1m3/3\u001b[0m \u001b[32m━━━━━━━━━━━━━━━━━━━━\u001b[0m\u001b[37m\u001b[0m \u001b[1m0s\u001b[0m 7ms/step - loss: 0.1206 \n",
            "Epoch 6/100\n",
            "\u001b[1m3/3\u001b[0m \u001b[32m━━━━━━━━━━━━━━━━━━━━\u001b[0m\u001b[37m\u001b[0m \u001b[1m0s\u001b[0m 8ms/step - loss: 0.1105 \n",
            "Epoch 7/100\n",
            "\u001b[1m3/3\u001b[0m \u001b[32m━━━━━━━━━━━━━━━━━━━━\u001b[0m\u001b[37m\u001b[0m \u001b[1m0s\u001b[0m 8ms/step - loss: 0.0902 \n",
            "Epoch 8/100\n",
            "\u001b[1m3/3\u001b[0m \u001b[32m━━━━━━━━━━━━━━━━━━━━\u001b[0m\u001b[37m\u001b[0m \u001b[1m0s\u001b[0m 8ms/step - loss: 0.0734 \n",
            "Epoch 9/100\n",
            "\u001b[1m3/3\u001b[0m \u001b[32m━━━━━━━━━━━━━━━━━━━━\u001b[0m\u001b[37m\u001b[0m \u001b[1m0s\u001b[0m 8ms/step - loss: 0.0697 \n",
            "Epoch 10/100\n",
            "\u001b[1m3/3\u001b[0m \u001b[32m━━━━━━━━━━━━━━━━━━━━\u001b[0m\u001b[37m\u001b[0m \u001b[1m0s\u001b[0m 9ms/step - loss: 0.0647 \n",
            "Epoch 11/100\n",
            "\u001b[1m3/3\u001b[0m \u001b[32m━━━━━━━━━━━━━━━━━━━━\u001b[0m\u001b[37m\u001b[0m \u001b[1m0s\u001b[0m 8ms/step - loss: 0.0506 \n",
            "Epoch 12/100\n",
            "\u001b[1m3/3\u001b[0m \u001b[32m━━━━━━━━━━━━━━━━━━━━\u001b[0m\u001b[37m\u001b[0m \u001b[1m0s\u001b[0m 9ms/step - loss: 0.0505 \n",
            "Epoch 13/100\n",
            "\u001b[1m3/3\u001b[0m \u001b[32m━━━━━━━━━━━━━━━━━━━━\u001b[0m\u001b[37m\u001b[0m \u001b[1m0s\u001b[0m 10ms/step - loss: 0.0469\n",
            "Epoch 14/100\n",
            "\u001b[1m3/3\u001b[0m \u001b[32m━━━━━━━━━━━━━━━━━━━━\u001b[0m\u001b[37m\u001b[0m \u001b[1m0s\u001b[0m 8ms/step - loss: 0.0426  \n",
            "Epoch 15/100\n",
            "\u001b[1m3/3\u001b[0m \u001b[32m━━━━━━━━━━━━━━━━━━━━\u001b[0m\u001b[37m\u001b[0m \u001b[1m0s\u001b[0m 8ms/step - loss: 0.0438 \n",
            "Epoch 16/100\n",
            "\u001b[1m3/3\u001b[0m \u001b[32m━━━━━━━━━━━━━━━━━━━━\u001b[0m\u001b[37m\u001b[0m \u001b[1m0s\u001b[0m 8ms/step - loss: 0.0389 \n",
            "Epoch 17/100\n",
            "\u001b[1m3/3\u001b[0m \u001b[32m━━━━━━━━━━━━━━━━━━━━\u001b[0m\u001b[37m\u001b[0m \u001b[1m0s\u001b[0m 7ms/step - loss: 0.0422 \n",
            "Epoch 18/100\n",
            "\u001b[1m3/3\u001b[0m \u001b[32m━━━━━━━━━━━━━━━━━━━━\u001b[0m\u001b[37m\u001b[0m \u001b[1m0s\u001b[0m 7ms/step - loss: 0.0416 \n",
            "Epoch 19/100\n",
            "\u001b[1m3/3\u001b[0m \u001b[32m━━━━━━━━━━━━━━━━━━━━\u001b[0m\u001b[37m\u001b[0m \u001b[1m0s\u001b[0m 7ms/step - loss: 0.0440 \n",
            "Epoch 20/100\n",
            "\u001b[1m3/3\u001b[0m \u001b[32m━━━━━━━━━━━━━━━━━━━━\u001b[0m\u001b[37m\u001b[0m \u001b[1m0s\u001b[0m 9ms/step - loss: 0.0436 \n",
            "Epoch 21/100\n",
            "\u001b[1m3/3\u001b[0m \u001b[32m━━━━━━━━━━━━━━━━━━━━\u001b[0m\u001b[37m\u001b[0m \u001b[1m0s\u001b[0m 8ms/step - loss: 0.0365 \n",
            "Epoch 22/100\n",
            "\u001b[1m3/3\u001b[0m \u001b[32m━━━━━━━━━━━━━━━━━━━━\u001b[0m\u001b[37m\u001b[0m \u001b[1m0s\u001b[0m 8ms/step - loss: 0.0411 \n",
            "Epoch 23/100\n",
            "\u001b[1m3/3\u001b[0m \u001b[32m━━━━━━━━━━━━━━━━━━━━\u001b[0m\u001b[37m\u001b[0m \u001b[1m0s\u001b[0m 8ms/step - loss: 0.0387 \n",
            "Epoch 24/100\n",
            "\u001b[1m3/3\u001b[0m \u001b[32m━━━━━━━━━━━━━━━━━━━━\u001b[0m\u001b[37m\u001b[0m \u001b[1m0s\u001b[0m 8ms/step - loss: 0.0399 \n",
            "Epoch 25/100\n",
            "\u001b[1m3/3\u001b[0m \u001b[32m━━━━━━━━━━━━━━━━━━━━\u001b[0m\u001b[37m\u001b[0m \u001b[1m0s\u001b[0m 8ms/step - loss: 0.0347 \n",
            "Epoch 26/100\n",
            "\u001b[1m3/3\u001b[0m \u001b[32m━━━━━━━━━━━━━━━━━━━━\u001b[0m\u001b[37m\u001b[0m \u001b[1m0s\u001b[0m 9ms/step - loss: 0.0392 \n",
            "Epoch 27/100\n",
            "\u001b[1m3/3\u001b[0m \u001b[32m━━━━━━━━━━━━━━━━━━━━\u001b[0m\u001b[37m\u001b[0m \u001b[1m0s\u001b[0m 8ms/step - loss: 0.0411 \n",
            "Epoch 28/100\n",
            "\u001b[1m3/3\u001b[0m \u001b[32m━━━━━━━━━━━━━━━━━━━━\u001b[0m\u001b[37m\u001b[0m \u001b[1m0s\u001b[0m 10ms/step - loss: 0.0369\n",
            "Epoch 29/100\n",
            "\u001b[1m3/3\u001b[0m \u001b[32m━━━━━━━━━━━━━━━━━━━━\u001b[0m\u001b[37m\u001b[0m \u001b[1m0s\u001b[0m 13ms/step - loss: 0.0365 \n",
            "Epoch 30/100\n",
            "\u001b[1m3/3\u001b[0m \u001b[32m━━━━━━━━━━━━━━━━━━━━\u001b[0m\u001b[37m\u001b[0m \u001b[1m0s\u001b[0m 8ms/step - loss: 0.0415  \n",
            "Epoch 31/100\n",
            "\u001b[1m3/3\u001b[0m \u001b[32m━━━━━━━━━━━━━━━━━━━━\u001b[0m\u001b[37m\u001b[0m \u001b[1m0s\u001b[0m 8ms/step - loss: 0.0407 \n",
            "Epoch 32/100\n",
            "\u001b[1m3/3\u001b[0m \u001b[32m━━━━━━━━━━━━━━━━━━━━\u001b[0m\u001b[37m\u001b[0m \u001b[1m0s\u001b[0m 8ms/step - loss: 0.0445 \n",
            "Epoch 33/100\n",
            "\u001b[1m3/3\u001b[0m \u001b[32m━━━━━━━━━━━━━━━━━━━━\u001b[0m\u001b[37m\u001b[0m \u001b[1m0s\u001b[0m 8ms/step - loss: 0.0409 \n",
            "Epoch 34/100\n",
            "\u001b[1m3/3\u001b[0m \u001b[32m━━━━━━━━━━━━━━━━━━━━\u001b[0m\u001b[37m\u001b[0m \u001b[1m0s\u001b[0m 8ms/step - loss: 0.0417 \n",
            "Epoch 35/100\n",
            "\u001b[1m3/3\u001b[0m \u001b[32m━━━━━━━━━━━━━━━━━━━━\u001b[0m\u001b[37m\u001b[0m \u001b[1m0s\u001b[0m 8ms/step - loss: 0.0394 \n",
            "Epoch 36/100\n",
            "\u001b[1m3/3\u001b[0m \u001b[32m━━━━━━━━━━━━━━━━━━━━\u001b[0m\u001b[37m\u001b[0m \u001b[1m0s\u001b[0m 9ms/step - loss: 0.0355 \n",
            "Epoch 37/100\n",
            "\u001b[1m3/3\u001b[0m \u001b[32m━━━━━━━━━━━━━━━━━━━━\u001b[0m\u001b[37m\u001b[0m \u001b[1m0s\u001b[0m 8ms/step - loss: 0.0410 \n",
            "Epoch 38/100\n",
            "\u001b[1m3/3\u001b[0m \u001b[32m━━━━━━━━━━━━━━━━━━━━\u001b[0m\u001b[37m\u001b[0m \u001b[1m0s\u001b[0m 7ms/step - loss: 0.0385 \n",
            "Epoch 39/100\n",
            "\u001b[1m3/3\u001b[0m \u001b[32m━━━━━━━━━━━━━━━━━━━━\u001b[0m\u001b[37m\u001b[0m \u001b[1m0s\u001b[0m 8ms/step - loss: 0.0412 \n",
            "Epoch 40/100\n",
            "\u001b[1m3/3\u001b[0m \u001b[32m━━━━━━━━━━━━━━━━━━━━\u001b[0m\u001b[37m\u001b[0m \u001b[1m0s\u001b[0m 9ms/step - loss: 0.0383 \n",
            "Epoch 41/100\n",
            "\u001b[1m3/3\u001b[0m \u001b[32m━━━━━━━━━━━━━━━━━━━━\u001b[0m\u001b[37m\u001b[0m \u001b[1m0s\u001b[0m 8ms/step - loss: 0.0370 \n",
            "Epoch 42/100\n",
            "\u001b[1m3/3\u001b[0m \u001b[32m━━━━━━━━━━━━━━━━━━━━\u001b[0m\u001b[37m\u001b[0m \u001b[1m0s\u001b[0m 10ms/step - loss: 0.0357\n",
            "Epoch 43/100\n",
            "\u001b[1m3/3\u001b[0m \u001b[32m━━━━━━━━━━━━━━━━━━━━\u001b[0m\u001b[37m\u001b[0m \u001b[1m0s\u001b[0m 11ms/step - loss: 0.0367\n",
            "Epoch 44/100\n",
            "\u001b[1m3/3\u001b[0m \u001b[32m━━━━━━━━━━━━━━━━━━━━\u001b[0m\u001b[37m\u001b[0m \u001b[1m0s\u001b[0m 17ms/step - loss: 0.0459\n",
            "Epoch 45/100\n",
            "\u001b[1m3/3\u001b[0m \u001b[32m━━━━━━━━━━━━━━━━━━━━\u001b[0m\u001b[37m\u001b[0m \u001b[1m0s\u001b[0m 8ms/step - loss: 0.0404  \n",
            "Epoch 46/100\n",
            "\u001b[1m3/3\u001b[0m \u001b[32m━━━━━━━━━━━━━━━━━━━━\u001b[0m\u001b[37m\u001b[0m \u001b[1m0s\u001b[0m 8ms/step - loss: 0.0410 \n",
            "Epoch 47/100\n",
            "\u001b[1m3/3\u001b[0m \u001b[32m━━━━━━━━━━━━━━━━━━━━\u001b[0m\u001b[37m\u001b[0m \u001b[1m0s\u001b[0m 8ms/step - loss: 0.0369 \n",
            "Epoch 48/100\n",
            "\u001b[1m3/3\u001b[0m \u001b[32m━━━━━━━━━━━━━━━━━━━━\u001b[0m\u001b[37m\u001b[0m \u001b[1m0s\u001b[0m 8ms/step - loss: 0.0391 \n",
            "Epoch 49/100\n",
            "\u001b[1m3/3\u001b[0m \u001b[32m━━━━━━━━━━━━━━━━━━━━\u001b[0m\u001b[37m\u001b[0m \u001b[1m0s\u001b[0m 8ms/step - loss: 0.0389 \n",
            "Epoch 50/100\n",
            "\u001b[1m3/3\u001b[0m \u001b[32m━━━━━━━━━━━━━━━━━━━━\u001b[0m\u001b[37m\u001b[0m \u001b[1m0s\u001b[0m 8ms/step - loss: 0.0387 \n",
            "Epoch 51/100\n",
            "\u001b[1m3/3\u001b[0m \u001b[32m━━━━━━━━━━━━━━━━━━━━\u001b[0m\u001b[37m\u001b[0m \u001b[1m0s\u001b[0m 8ms/step - loss: 0.0427 \n",
            "Epoch 52/100\n",
            "\u001b[1m3/3\u001b[0m \u001b[32m━━━━━━━━━━━━━━━━━━━━\u001b[0m\u001b[37m\u001b[0m \u001b[1m0s\u001b[0m 8ms/step - loss: 0.0388 \n",
            "Epoch 53/100\n",
            "\u001b[1m3/3\u001b[0m \u001b[32m━━━━━━━━━━━━━━━━━━━━\u001b[0m\u001b[37m\u001b[0m \u001b[1m0s\u001b[0m 7ms/step - loss: 0.0400 \n",
            "Epoch 54/100\n",
            "\u001b[1m3/3\u001b[0m \u001b[32m━━━━━━━━━━━━━━━━━━━━\u001b[0m\u001b[37m\u001b[0m \u001b[1m0s\u001b[0m 8ms/step - loss: 0.0383 \n",
            "Epoch 55/100\n",
            "\u001b[1m3/3\u001b[0m \u001b[32m━━━━━━━━━━━━━━━━━━━━\u001b[0m\u001b[37m\u001b[0m \u001b[1m0s\u001b[0m 7ms/step - loss: 0.0358 \n",
            "Epoch 56/100\n",
            "\u001b[1m3/3\u001b[0m \u001b[32m━━━━━━━━━━━━━━━━━━━━\u001b[0m\u001b[37m\u001b[0m \u001b[1m0s\u001b[0m 8ms/step - loss: 0.0370 \n",
            "Epoch 57/100\n",
            "\u001b[1m3/3\u001b[0m \u001b[32m━━━━━━━━━━━━━━━━━━━━\u001b[0m\u001b[37m\u001b[0m \u001b[1m0s\u001b[0m 8ms/step - loss: 0.0371 \n",
            "Epoch 58/100\n",
            "\u001b[1m3/3\u001b[0m \u001b[32m━━━━━━━━━━━━━━━━━━━━\u001b[0m\u001b[37m\u001b[0m \u001b[1m0s\u001b[0m 10ms/step - loss: 0.0388\n",
            "Epoch 59/100\n",
            "\u001b[1m3/3\u001b[0m \u001b[32m━━━━━━━━━━━━━━━━━━━━\u001b[0m\u001b[37m\u001b[0m \u001b[1m0s\u001b[0m 8ms/step - loss: 0.0376  \n",
            "Epoch 60/100\n",
            "\u001b[1m3/3\u001b[0m \u001b[32m━━━━━━━━━━━━━━━━━━━━\u001b[0m\u001b[37m\u001b[0m \u001b[1m0s\u001b[0m 8ms/step - loss: 0.0382 \n",
            "Epoch 61/100\n",
            "\u001b[1m3/3\u001b[0m \u001b[32m━━━━━━━━━━━━━━━━━━━━\u001b[0m\u001b[37m\u001b[0m \u001b[1m0s\u001b[0m 8ms/step - loss: 0.0363 \n",
            "Epoch 62/100\n",
            "\u001b[1m3/3\u001b[0m \u001b[32m━━━━━━━━━━━━━━━━━━━━\u001b[0m\u001b[37m\u001b[0m \u001b[1m0s\u001b[0m 9ms/step - loss: 0.0392 \n",
            "Epoch 63/100\n",
            "\u001b[1m3/3\u001b[0m \u001b[32m━━━━━━━━━━━━━━━━━━━━\u001b[0m\u001b[37m\u001b[0m \u001b[1m0s\u001b[0m 8ms/step - loss: 0.0362 \n",
            "Epoch 64/100\n",
            "\u001b[1m3/3\u001b[0m \u001b[32m━━━━━━━━━━━━━━━━━━━━\u001b[0m\u001b[37m\u001b[0m \u001b[1m0s\u001b[0m 7ms/step - loss: 0.0397 \n",
            "Epoch 65/100\n",
            "\u001b[1m3/3\u001b[0m \u001b[32m━━━━━━━━━━━━━━━━━━━━\u001b[0m\u001b[37m\u001b[0m \u001b[1m0s\u001b[0m 8ms/step - loss: 0.0391 \n",
            "Epoch 66/100\n",
            "\u001b[1m3/3\u001b[0m \u001b[32m━━━━━━━━━━━━━━━━━━━━\u001b[0m\u001b[37m\u001b[0m \u001b[1m0s\u001b[0m 8ms/step - loss: 0.0369 \n",
            "Epoch 67/100\n",
            "\u001b[1m3/3\u001b[0m \u001b[32m━━━━━━━━━━━━━━━━━━━━\u001b[0m\u001b[37m\u001b[0m \u001b[1m0s\u001b[0m 8ms/step - loss: 0.0381 \n",
            "Epoch 68/100\n",
            "\u001b[1m3/3\u001b[0m \u001b[32m━━━━━━━━━━━━━━━━━━━━\u001b[0m\u001b[37m\u001b[0m \u001b[1m0s\u001b[0m 9ms/step - loss: 0.0383 \n",
            "Epoch 69/100\n",
            "\u001b[1m3/3\u001b[0m \u001b[32m━━━━━━━━━━━━━━━━━━━━\u001b[0m\u001b[37m\u001b[0m \u001b[1m0s\u001b[0m 8ms/step - loss: 0.0399 \n",
            "Epoch 70/100\n",
            "\u001b[1m3/3\u001b[0m \u001b[32m━━━━━━━━━━━━━━━━━━━━\u001b[0m\u001b[37m\u001b[0m \u001b[1m0s\u001b[0m 7ms/step - loss: 0.0371 \n",
            "Epoch 71/100\n",
            "\u001b[1m3/3\u001b[0m \u001b[32m━━━━━━━━━━━━━━━━━━━━\u001b[0m\u001b[37m\u001b[0m \u001b[1m0s\u001b[0m 7ms/step - loss: 0.0387 \n",
            "Epoch 72/100\n",
            "\u001b[1m3/3\u001b[0m \u001b[32m━━━━━━━━━━━━━━━━━━━━\u001b[0m\u001b[37m\u001b[0m \u001b[1m0s\u001b[0m 7ms/step - loss: 0.0393 \n",
            "Epoch 73/100\n",
            "\u001b[1m3/3\u001b[0m \u001b[32m━━━━━━━━━━━━━━━━━━━━\u001b[0m\u001b[37m\u001b[0m \u001b[1m0s\u001b[0m 9ms/step - loss: 0.0370 \n",
            "Epoch 74/100\n",
            "\u001b[1m3/3\u001b[0m \u001b[32m━━━━━━━━━━━━━━━━━━━━\u001b[0m\u001b[37m\u001b[0m \u001b[1m0s\u001b[0m 10ms/step - loss: 0.0397\n",
            "Epoch 75/100\n",
            "\u001b[1m3/3\u001b[0m \u001b[32m━━━━━━━━━━━━━━━━━━━━\u001b[0m\u001b[37m\u001b[0m \u001b[1m0s\u001b[0m 10ms/step - loss: 0.0422\n",
            "Epoch 76/100\n",
            "\u001b[1m3/3\u001b[0m \u001b[32m━━━━━━━━━━━━━━━━━━━━\u001b[0m\u001b[37m\u001b[0m \u001b[1m0s\u001b[0m 11ms/step - loss: 0.0351\n",
            "Epoch 77/100\n",
            "\u001b[1m3/3\u001b[0m \u001b[32m━━━━━━━━━━━━━━━━━━━━\u001b[0m\u001b[37m\u001b[0m \u001b[1m0s\u001b[0m 8ms/step - loss: 0.0360  \n",
            "Epoch 78/100\n",
            "\u001b[1m3/3\u001b[0m \u001b[32m━━━━━━━━━━━━━━━━━━━━\u001b[0m\u001b[37m\u001b[0m \u001b[1m0s\u001b[0m 11ms/step - loss: 0.0363\n",
            "Epoch 79/100\n",
            "\u001b[1m3/3\u001b[0m \u001b[32m━━━━━━━━━━━━━━━━━━━━\u001b[0m\u001b[37m\u001b[0m \u001b[1m0s\u001b[0m 8ms/step - loss: 0.0383 \n",
            "Epoch 80/100\n",
            "\u001b[1m3/3\u001b[0m \u001b[32m━━━━━━━━━━━━━━━━━━━━\u001b[0m\u001b[37m\u001b[0m \u001b[1m0s\u001b[0m 8ms/step - loss: 0.0399 \n",
            "Epoch 81/100\n",
            "\u001b[1m3/3\u001b[0m \u001b[32m━━━━━━━━━━━━━━━━━━━━\u001b[0m\u001b[37m\u001b[0m \u001b[1m0s\u001b[0m 8ms/step - loss: 0.0374 \n",
            "Epoch 82/100\n",
            "\u001b[1m3/3\u001b[0m \u001b[32m━━━━━━━━━━━━━━━━━━━━\u001b[0m\u001b[37m\u001b[0m \u001b[1m0s\u001b[0m 8ms/step - loss: 0.0380 \n",
            "Epoch 83/100\n",
            "\u001b[1m3/3\u001b[0m \u001b[32m━━━━━━━━━━━━━━━━━━━━\u001b[0m\u001b[37m\u001b[0m \u001b[1m0s\u001b[0m 9ms/step - loss: 0.0394 \n",
            "Epoch 84/100\n",
            "\u001b[1m3/3\u001b[0m \u001b[32m━━━━━━━━━━━━━━━━━━━━\u001b[0m\u001b[37m\u001b[0m \u001b[1m0s\u001b[0m 9ms/step - loss: 0.0388 \n",
            "Epoch 85/100\n",
            "\u001b[1m3/3\u001b[0m \u001b[32m━━━━━━━━━━━━━━━━━━━━\u001b[0m\u001b[37m\u001b[0m \u001b[1m0s\u001b[0m 8ms/step - loss: 0.0351 \n",
            "Epoch 86/100\n",
            "\u001b[1m3/3\u001b[0m \u001b[32m━━━━━━━━━━━━━━━━━━━━\u001b[0m\u001b[37m\u001b[0m \u001b[1m0s\u001b[0m 10ms/step - loss: 0.0410\n",
            "Epoch 87/100\n",
            "\u001b[1m3/3\u001b[0m \u001b[32m━━━━━━━━━━━━━━━━━━━━\u001b[0m\u001b[37m\u001b[0m \u001b[1m0s\u001b[0m 8ms/step - loss: 0.0394 \n",
            "Epoch 88/100\n",
            "\u001b[1m3/3\u001b[0m \u001b[32m━━━━━━━━━━━━━━━━━━━━\u001b[0m\u001b[37m\u001b[0m \u001b[1m0s\u001b[0m 9ms/step - loss: 0.0366 \n",
            "Epoch 89/100\n",
            "\u001b[1m3/3\u001b[0m \u001b[32m━━━━━━━━━━━━━━━━━━━━\u001b[0m\u001b[37m\u001b[0m \u001b[1m0s\u001b[0m 9ms/step - loss: 0.0405 \n",
            "Epoch 90/100\n",
            "\u001b[1m3/3\u001b[0m \u001b[32m━━━━━━━━━━━━━━━━━━━━\u001b[0m\u001b[37m\u001b[0m \u001b[1m0s\u001b[0m 10ms/step - loss: 0.0348\n",
            "Epoch 91/100\n",
            "\u001b[1m3/3\u001b[0m \u001b[32m━━━━━━━━━━━━━━━━━━━━\u001b[0m\u001b[37m\u001b[0m \u001b[1m0s\u001b[0m 11ms/step - loss: 0.0389\n",
            "Epoch 92/100\n",
            "\u001b[1m3/3\u001b[0m \u001b[32m━━━━━━━━━━━━━━━━━━━━\u001b[0m\u001b[37m\u001b[0m \u001b[1m0s\u001b[0m 11ms/step - loss: 0.0369 \n",
            "Epoch 93/100\n",
            "\u001b[1m3/3\u001b[0m \u001b[32m━━━━━━━━━━━━━━━━━━━━\u001b[0m\u001b[37m\u001b[0m \u001b[1m0s\u001b[0m 8ms/step - loss: 0.0384 \n",
            "Epoch 94/100\n",
            "\u001b[1m3/3\u001b[0m \u001b[32m━━━━━━━━━━━━━━━━━━━━\u001b[0m\u001b[37m\u001b[0m \u001b[1m0s\u001b[0m 9ms/step - loss: 0.0346 \n",
            "Epoch 95/100\n",
            "\u001b[1m3/3\u001b[0m \u001b[32m━━━━━━━━━━━━━━━━━━━━\u001b[0m\u001b[37m\u001b[0m \u001b[1m0s\u001b[0m 9ms/step - loss: 0.0400 \n",
            "Epoch 96/100\n",
            "\u001b[1m3/3\u001b[0m \u001b[32m━━━━━━━━━━━━━━━━━━━━\u001b[0m\u001b[37m\u001b[0m \u001b[1m0s\u001b[0m 8ms/step - loss: 0.0389 \n",
            "Epoch 97/100\n",
            "\u001b[1m3/3\u001b[0m \u001b[32m━━━━━━━━━━━━━━━━━━━━\u001b[0m\u001b[37m\u001b[0m \u001b[1m0s\u001b[0m 9ms/step - loss: 0.0360 \n",
            "Epoch 98/100\n",
            "\u001b[1m3/3\u001b[0m \u001b[32m━━━━━━━━━━━━━━━━━━━━\u001b[0m\u001b[37m\u001b[0m \u001b[1m0s\u001b[0m 9ms/step - loss: 0.0388 \n",
            "Epoch 99/100\n",
            "\u001b[1m3/3\u001b[0m \u001b[32m━━━━━━━━━━━━━━━━━━━━\u001b[0m\u001b[37m\u001b[0m \u001b[1m0s\u001b[0m 8ms/step - loss: 0.0391 \n",
            "Epoch 100/100\n",
            "\u001b[1m3/3\u001b[0m \u001b[32m━━━━━━━━━━━━━━━━━━━━\u001b[0m\u001b[37m\u001b[0m \u001b[1m0s\u001b[0m 8ms/step - loss: 0.0375 \n"
          ]
        }
      ]
    },
    {
      "cell_type": "markdown",
      "source": [
        "evaluation"
      ],
      "metadata": {
        "id": "f3a9q09OlErd"
      },
      "id": "f3a9q09OlErd"
    },
    {
      "cell_type": "code",
      "source": [
        "# Evaluate the model on test data\n",
        "test_loss = best_model.evaluate(X_test, y_test, verbose=0)\n",
        "print(f\"Test Loss: {test_loss}\")\n"
      ],
      "metadata": {
        "colab": {
          "base_uri": "https://localhost:8080/"
        },
        "id": "N6TirYqelF-t",
        "outputId": "262864de-7b5d-4bba-94df-eb84e5dedba2"
      },
      "id": "N6TirYqelF-t",
      "execution_count": null,
      "outputs": [
        {
          "output_type": "stream",
          "name": "stdout",
          "text": [
            "Test Loss: 0.0394655279815197\n"
          ]
        }
      ]
    },
    {
      "cell_type": "markdown",
      "source": [
        "Make Predictions with the Trained Model"
      ],
      "metadata": {
        "id": "N9gsuioclJHh"
      },
      "id": "N9gsuioclJHh"
    },
    {
      "cell_type": "code",
      "source": [
        "# Predict on the test set\n",
        "y_pred = best_model.predict(X_test)\n",
        "\n",
        "# Inverse transform the predictions to the original scale (if you scaled your data)\n",
        "y_pred_original = scaler.inverse_transform(y_pred)\n",
        "y_test_original = scaler.inverse_transform(y_test.reshape(-1, 1))\n",
        "\n",
        "# Plot the actual vs predicted values\n",
        "plt.figure(figsize=(12, 6))\n",
        "plt.plot(y_test_original, label='Actual Passenger Count', color='blue')\n",
        "plt.plot(y_pred_original, label='Predicted Passenger Count', color='red')\n",
        "plt.title('LSTM Model Predictions vs Actual')\n",
        "plt.xlabel('Time')\n",
        "plt.ylabel('Passenger Count')\n",
        "plt.legend()\n",
        "plt.show()\n"
      ],
      "metadata": {
        "colab": {
          "base_uri": "https://localhost:8080/",
          "height": 486
        },
        "id": "6F2Bqw2flIvk",
        "outputId": "3d8358a0-547c-4916-8acb-7a7f9008339a"
      },
      "id": "6F2Bqw2flIvk",
      "execution_count": null,
      "outputs": [
        {
          "output_type": "stream",
          "name": "stdout",
          "text": [
            "\u001b[1m1/1\u001b[0m \u001b[32m━━━━━━━━━━━━━━━━━━━━\u001b[0m\u001b[37m\u001b[0m \u001b[1m0s\u001b[0m 146ms/step\n"
          ]
        },
        {
          "output_type": "display_data",
          "data": {
            "text/plain": [
              "<Figure size 1200x600 with 1 Axes>"
            ],
            "image/png": "[encoded data removed]"
          },
          "metadata": {}
        }
      ]
    },
    {
      "cell_type": "markdown",
      "source": [
        "real time prediction"
      ],
      "metadata": {
        "id": "a3scXMRZlFms"
      },
      "id": "a3scXMRZlFms"
    },
    {
      "cell_type": "code",
      "source": [
        "# Step 1: Ensure the model is trained first\n",
        "# Check if the model is already trained (this should happen before prediction)\n",
        "if not hasattr(model, 'history_'):\n",
        "    print(\"Model is not trained yet. Please train the model first.\")\n",
        "    model.fit(X_train, y_train, epochs=20, batch_size=32)  # Training step with your training data\n",
        "\n",
        "# Step 2: Prepare the input data for today (the latest data point)\n",
        "last_known_value = time_series_data['adjusted_passenger_count'].iloc[-1]\n",
        "\n",
        "# Scale the last known value as per the model's requirement\n",
        "last_known_value_scaled = scaler.transform([[last_known_value]])\n",
        "\n",
        "# Step 3: Create the input sequence for prediction (use the last 12 months' data)\n",
        "recent_data = scaled_values[-sequence_length:]  # Use the last 12 months of data\n",
        "X_real_time = recent_data.reshape(1, sequence_length, 1)  # Reshape for the model's input\n",
        "\n",
        "# Step 4: Make the prediction for today\n",
        "prediction_real_time = model.predict(X_real_time)\n",
        "\n",
        "# Inverse transform the prediction to original scale\n",
        "prediction_real_time_original = scaler.inverse_transform(prediction_real_time)\n",
        "\n",
        "print(f\"Predicted Passenger Count for Today: {prediction_real_time_original[0][0]}\")\n",
        "\n",
        "# Step 5: Predict for the next month (next month's passenger count)\n",
        "future_sequence = scaled_values[-sequence_length:]  # Use the most recent 12 months\n",
        "future_input = future_sequence.reshape(1, sequence_length, 1)  # Reshape for model input\n",
        "\n",
        "# Predict for the next month\n",
        "future_prediction = model.predict(future_input)\n",
        "\n",
        "# Inverse transform the prediction to original scale\n",
        "future_prediction_original = scaler.inverse_transform(future_prediction)\n",
        "\n",
        "print(f\"Predicted Passenger Count for Next Month: {future_prediction_original[0][0]}\")\n"
      ],
      "metadata": {
        "colab": {
          "base_uri": "https://localhost:8080/"
        },
        "id": "QEuhIIY1ps7i",
        "outputId": "fec51dae-1fd3-4683-8a65-22791a905041"
      },
      "id": "QEuhIIY1ps7i",
      "execution_count": null,
      "outputs": [
        {
          "output_type": "stream",
          "name": "stdout",
          "text": [
            "Predicted Passenger Count for Today: 3494205.75\n",
            "Predicted Passenger Count for Next Month: 3494205.75\n"
          ]
        }
      ]
    }
  ],
  "metadata": {
    "kernelspec": {
      "display_name": "Python 3 (ipykernel)",
      "language": "python",
      "name": "python3"
    },
    "language_info": {
      "codemirror_mode": {
        "name": "ipython",
        "version": 3
      },
      "file_extension": ".py",
      "mimetype": "text/x-python",
      "name": "python",
      "nbconvert_exporter": "python",
      "pygments_lexer": "ipython3",
      "version": "3.12.4"
    },
    "colab": {
      "provenance": []
    }
  },
  "nbformat": 4,
  "nbformat_minor": 5
}